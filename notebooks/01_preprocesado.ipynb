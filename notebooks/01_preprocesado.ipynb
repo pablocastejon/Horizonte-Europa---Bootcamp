{
 "cells": [
  {
   "cell_type": "markdown",
   "id": "1f2ebc4d",
   "metadata": {},
   "source": [
    "# 📊 Preprocesado de Datos - Proyectos Horizonte Europa\n",
    "\n",
    "Este notebook tiene como función la limpieza y preparación de datos administrativos de proyectos europeos del Programa Marco, 9ª Edición (Horizonte Europa).\n",
    "\n",
    "## Consideraciones Especiales:\n",
    "- **Datos administrativos**: El dataset no contiene datos experimentales; no se eliminarán los nulos salvo casos muy incompletos.\n",
    "- **Duplicados**: La variable `Ref.CSIC` se usará como clave primaria. Cualquier duplicado para esta variable será eliminado.\n",
    "- **Variables string**: Muchas columnas numéricas son en realidad etiquetas (ej: `Ref.UE`, `Centro`). NO deben usarse para análisis estadisticos multivariable.\n",
    "- **Normalización**: `Nombre centro IP` contiene etiquetas distintas para el mismo centro; debe normalizarse usando `Centro` como referencia.\n",
    "\n",
    "## Contenido:\n",
    "1. Carga de Datos\n",
    "2. Renombrar variables ambiguas\n",
    "3. Clasificación de Variables\n",
    "4. Eliminación de Duplicados\n",
    "5. Normalización de Nombres de Centros\n",
    "6. Conversión de Variables temporales\n",
    "7. Limpieza de Strings\n",
    "8. Variables Derivadas: Transformar Areas Científicas antiguas a nuevas\n",
    "9. Variables Derivadas: Otras variables derivadas de interés\n",
    "10. Resumen Final del Preprocesado\n",
    "11. Exportación de Datos Limpios"
   ]
  },
  {
   "cell_type": "code",
   "execution_count": 17,
   "id": "9919d20c",
   "metadata": {},
   "outputs": [
    {
     "name": "stdout",
     "output_type": "stream",
     "text": [
      "✅ Librerías importadas correctamente\n"
     ]
    }
   ],
   "source": [
    "# Importar librerías necesarias\n",
    "import pandas as pd\n",
    "import numpy as np\n",
    "import warnings\n",
    "warnings.filterwarnings('ignore')\n",
    "\n",
    "print(\"✅ Librerías importadas correctamente\")"
   ]
  },
  {
   "cell_type": "markdown",
   "id": "9894e16b",
   "metadata": {},
   "source": [
    "## 1. Carga de Datos"
   ]
  },
  {
   "cell_type": "code",
   "execution_count": 18,
   "id": "b3385c3d",
   "metadata": {},
   "outputs": [
    {
     "name": "stdout",
     "output_type": "stream",
     "text": [
      "📁 Datos cargados: 719 filas (proyectos) y 20 columnas\n",
      "\n",
      "📋 Columnas encontradas:\n",
      "   1. Ref.CSIC\n",
      "   2. Ref.UE\n",
      "   3. Situación\n",
      "   4. Programa\n",
      "   5. Acción clave\n",
      "   6. Título\n",
      "   7. Comienzo\n",
      "   8. Final\n",
      "   9. Duración (meses)\n",
      "  10. Concedido\n",
      "  11. CSIC\n",
      "  12. España (no CSIC)\n",
      "  13. Total (Csic, Esp. y otros)\n",
      "  14. Cód.área\n",
      "  15. Acrónimo del proyecto\n",
      "  16. Convocatoria\n",
      "  17. Centro\n",
      "  18. Nombre Centro IP\n",
      "  19. Resumen\n",
      "  20. Keywords\n"
     ]
    }
   ],
   "source": [
    "#carga de datos desde hoja excel\n",
    "df = pd.read_excel(\n",
    "    '../data/9PM_bootcamp1.xlsx',\n",
    "    dtype={'Centro': str, 'Ref.UE': str}\n",
    ")\n",
    "\n",
    "print(f\"📁 Datos cargados: {df.shape[0]} filas (proyectos) y {df.shape[1]} columnas\")\n",
    "print(f\"\\n📋 Columnas encontradas:\")\n",
    "for i, col in enumerate(df.columns, 1):\n",
    "    print(f\"  {i:2d}. {col}\")\n",
    "\n"
   ]
  },
  {
   "cell_type": "markdown",
   "id": "e72f7758",
   "metadata": {},
   "source": [
    "# 2. Renombrar variables ambiguas\n",
    "\n",
    "Se renombrarán las siguientes variables, actualmente con nombres ambiguos, para mayor claridad:\n",
    "\n",
    "| **Variable Original** | **Nuevo Nombre** |\n",
    "|----------------------|------------------|\n",
    "| `Concedido` | `Importe Concedido` |\n",
    "| `CSIC` | `Participantes CSIC` |\n",
    "| `España (no CSIC)` | `Participantes España (no CSIC)` |\n",
    "| `Total (Csic, Esp. y otros)` | `Total Participantes` |\n",
    "\n",
    "\n",
    "\n"
   ]
  },
  {
   "cell_type": "code",
   "execution_count": 19,
   "id": "b3048a90",
   "metadata": {},
   "outputs": [
    {
     "name": "stdout",
     "output_type": "stream",
     "text": [
      "Nombres de variables actualizadas:\n",
      "   ✅ 'Concedido' → 'Importe Concedido'\n",
      "   ✅ 'CSIC' → 'Participantes CSIC'\n",
      "   ✅ 'España (no CSIC)' → 'Participantes España (no CSIC)'\n",
      "   ✅ 'Total (Csic, Esp. y otros)' → 'Total Participantes'\n",
      "\n",
      "📋 VARIABLES RENOMBRADAS DISPONIBLES:\n",
      "   ✓ Importe Concedido\n",
      "   ✓ Participantes CSIC\n",
      "   ✓ Participantes España (no CSIC)\n",
      "   ✓ Total Participantes\n"
     ]
    }
   ],
   "source": [
    "\n",
    "renombres = {\n",
    "    'Concedido': 'Importe Concedido',\n",
    "    'CSIC': 'Participantes CSIC',\n",
    "    'España (no CSIC)': 'Participantes España (no CSIC)',\n",
    "    'Total (Csic, Esp. y otros)': 'Total Participantes'\n",
    "}\n",
    "\n",
    "# Aplicar renombres\n",
    "df = df.rename(columns=renombres)\n",
    "\n",
    "print (\"Nombres de variables actualizadas:\")\n",
    "# Mostrar confirmación de cambios\n",
    "for original, nuevo in renombres.items():\n",
    "    if original in df.columns or nuevo in df.columns:\n",
    "        print(f\"   ✅ '{original}' → '{nuevo}'\")\n",
    "\n",
    "\n",
    "# Verificar nuevos nombres\n",
    "print(\"\\n📋 VARIABLES RENOMBRADAS DISPONIBLES:\")\n",
    "for nuevo_nombre in renombres.values():\n",
    "    if nuevo_nombre in df.columns:\n",
    "        print(f\"   ✓ {nuevo_nombre}\")"
   ]
  },
  {
   "cell_type": "markdown",
   "id": "9f8af818",
   "metadata": {},
   "source": [
    "## 3. Clasificación de Variables\n",
    "\n",
    "El dataset contiene variables de distinto tipo: identificadores, variables categóricas, descriptivas... y solo algunas numéricas. Es necesario clasificarlas correctamente y tener en cuenta esta clasificación para su análisis.\n"
   ]
  },
  {
   "cell_type": "code",
   "execution_count": 20,
   "id": "c1f68fca",
   "metadata": {},
   "outputs": [
    {
     "name": "stdout",
     "output_type": "stream",
     "text": [
      "📊 CLASIFICACIÓN DE VARIABLES SEGÚN TIPO:\n",
      "================================================================================\n",
      "\n",
      "🔹 IDENTIFICADORES:\n",
      "   ✓ Ref.CSIC\n",
      "   ✓ Ref.UE\n",
      "   ✓ Acrónimo del proyecto\n",
      "\n",
      "🔹 CATEGORICAS:\n",
      "   ✓ Situación\n",
      "   ✓ Programa\n",
      "   ✓ Acción clave\n",
      "   ✓ Convocatoria\n",
      "   ✓ Cód.área\n",
      "   ✓ Centro\n",
      "   ✓ Nombre Centro IP\n",
      "\n",
      "🔹 DESCRIPTIVAS:\n",
      "   ✓ Título\n",
      "   ✓ Resumen\n",
      "   ✓ Keywords\n",
      "\n",
      "🔹 NUMERICAS:\n",
      "   ✓ Importe Concedido\n",
      "   ✓ Duración (meses)\n",
      "   ✓ Participantes CSIC\n",
      "   ✓ Participantes España (no CSIC)\n",
      "   ✓ Total Participantes\n",
      "\n",
      "🔹 TEMPORALES:\n",
      "   ✓ Comienzo\n",
      "   ✓ Final\n"
     ]
    }
   ],
   "source": [
    "# Definir clasificación de variables según su función REAL en datos administrativos\n",
    "variables_config = {\n",
    "    'identificadores': ['Ref.CSIC', 'Ref.UE', 'Acrónimo del proyecto'],  # Códigos únicos\n",
    "    'categoricas': ['Situación', 'Programa', 'Acción clave', 'Convocatoria', 'Cód.área','Centro', 'Nombre Centro IP'],  # Variables categóricas\n",
    "    'descriptivas': ['Título', 'Resumen', 'Keywords'],  # Texto libre para búsqueda\n",
    "    'numericas': ['Importe Concedido','Duración (meses)',  'Participantes CSIC', 'Participantes España (no CSIC)', 'Total Participantes'], \n",
    "    'temporales': ['Comienzo', 'Final'],  # Fechas\n",
    "}\n",
    "\n",
    "print(\"📊 CLASIFICACIÓN DE VARIABLES SEGÚN TIPO:\")\n",
    "print(\"=\" * 80)\n",
    "for tipo, cols in variables_config.items():\n",
    "    print(f\"\\n🔹 {tipo.upper()}:\")\n",
    "    for col in cols:\n",
    "        if col in df.columns:\n",
    "            print(f\"   ✓ {col}\")\n",
    "        else:\n",
    "            print(f\"   ✗ {col} (no encontrada)\")\n",
    "\n",
    "# Verificar si hay columnas no clasificadas\n",
    "columnas_no_clasificadas = set(df.columns) - {col for cols in variables_config.values() for col in cols}\n",
    "if columnas_no_clasificadas:\n",
    "    print(f\"\\n⚠️ COLUMNAS NO CLASIFICADAS:\")\n",
    "    for col in columnas_no_clasificadas:\n",
    "        print(f\"   ? {col}\")"
   ]
  },
  {
   "cell_type": "markdown",
   "id": "28a16e83",
   "metadata": {},
   "source": [
    "Veamos el Data type de cada variable:"
   ]
  },
  {
   "cell_type": "code",
   "execution_count": 21,
   "id": "8548eb1e",
   "metadata": {},
   "outputs": [
    {
     "name": "stdout",
     "output_type": "stream",
     "text": [
      "📋 INFORMACIÓN DEL DATASET:\n",
      "======================================================================\n",
      "<class 'pandas.core.frame.DataFrame'>\n",
      "RangeIndex: 719 entries, 0 to 718\n",
      "Data columns (total 20 columns):\n",
      " #   Column                          Non-Null Count  Dtype  \n",
      "---  ------                          --------------  -----  \n",
      " 0   Ref.CSIC                        695 non-null    object \n",
      " 1   Ref.UE                          694 non-null    object \n",
      " 2   Situación                       695 non-null    object \n",
      " 3   Programa                        692 non-null    object \n",
      " 4   Acción clave                    692 non-null    object \n",
      " 5   Título                          695 non-null    object \n",
      " 6   Comienzo                        691 non-null    object \n",
      " 7   Final                           691 non-null    object \n",
      " 8   Duración (meses)                690 non-null    float64\n",
      " 9   Importe Concedido               695 non-null    float64\n",
      " 10  Participantes CSIC              693 non-null    float64\n",
      " 11  Participantes España (no CSIC)  693 non-null    float64\n",
      " 12  Total Participantes             693 non-null    float64\n",
      " 13  Cód.área                        695 non-null    float64\n",
      " 14  Acrónimo del proyecto           695 non-null    object \n",
      " 15  Convocatoria                    695 non-null    object \n",
      " 16  Centro                          695 non-null    object \n",
      " 17  Nombre Centro IP                695 non-null    object \n",
      " 18  Resumen                         616 non-null    object \n",
      " 19  Keywords                        257 non-null    object \n",
      "dtypes: float64(6), object(14)\n",
      "memory usage: 112.5+ KB\n"
     ]
    }
   ],
   "source": [
    "# Información detallada del dataset\n",
    "print(\"📋 INFORMACIÓN DEL DATASET:\")\n",
    "print(\"=\" * 70)\n",
    "df.info()"
   ]
  },
  {
   "cell_type": "markdown",
   "id": "55cf671b",
   "metadata": {},
   "source": [
    "\n",
    "Para evitar errores, es preferible modificar el tipo de dato para las variables numéricas.\n",
    "\n",
    "| **Variable** | **Tipo Actual** | **Tipo Objetivo** |\n",
    "|-------------|----------------|-------------------|\n",
    "| `Duración (meses)` | `float64` | `int64` |\n",
    "| `Importe Concedido` | `float64` | `float64` (Se mantiene igual)|\n",
    "| `Participantes CSIC` | `float64` | `int64` |\n",
    "| `Participantes España (no CSIC)` | `float64` | `int64` |\n",
    "| `Total Participantes` | `float64` | `int64` |\n",
    "| `Cód.área` | `float64` | `object` Código identificador, no es variable numérica|\n",
    "\n",
    "\n",
    "\n",
    "> **⚠️ Nota importante**: Aunque `Centro` y `Cód.área` contengan números, representan códigos identificadores y deben tratarse como texto para evitar operaciones matemáticas incorrectas.\n"
   ]
  },
  {
   "cell_type": "code",
   "execution_count": 22,
   "id": "5add53ed",
   "metadata": {},
   "outputs": [
    {
     "name": "stdout",
     "output_type": "stream",
     "text": [
      "   ✅ Duración (meses) → int64\n",
      "   ✅ Participantes CSIC → int64\n",
      "   ✅ Participantes España (no CSIC) → int64\n",
      "   ✅ Total Participantes → int64\n",
      "   ✅ Cód.área → int64 → object (código identificador)\n",
      "   ✅ Importe Concedido → float64 (se mantiene)\n",
      "\n",
      "📊 Verificación de tipos de datos:\n",
      "   Duración (meses): Int64\n",
      "   Importe Concedido: float64\n",
      "   Participantes CSIC: Int64\n",
      "   Participantes España (no CSIC): Int64\n",
      "   Total Participantes: Int64\n",
      "   Centro: object\n",
      "   Cód.área: object\n"
     ]
    }
   ],
   "source": [
    "\n",
    "# 1. Variables enteras (sin decimales)\n",
    "variables_enteras = ['Duración (meses)', 'Participantes CSIC', 'Participantes España (no CSIC)', 'Total Participantes']\n",
    "\n",
    "for var in variables_enteras:\n",
    "    if var in df.columns:\n",
    "        df[var] = df[var].astype('Int64')  # Int64 permite valores nulos\n",
    "        print(f\"   ✅ {var} → int64\")\n",
    "\n",
    "# 2. Variables que son códigos identificadores (Cód.área)\n",
    "\n",
    "if 'Cód.área' in df.columns:\n",
    "    df['Cód.área'] = pd.to_numeric(df['Cód.área'], errors='coerce').astype('Int64')\n",
    "    df['Cód.área'] = df['Cód.área'].astype(str).replace('<NA>', pd.NA)\n",
    "    print(f\"   ✅ Cód.área → int64 → object (código identificador)\")\n",
    "\n",
    "# 3. Importe Concedido se mantiene como float64\n",
    "print(f\"   ✅ Importe Concedido → float64 (se mantiene)\")\n",
    "\n",
    "print(\"\\n📊 Verificación de tipos de datos:\")\n",
    "tipos_relevantes = ['Duración (meses)', 'Importe Concedido', 'Participantes CSIC', \n",
    "                   'Participantes España (no CSIC)', 'Total Participantes', 'Centro', 'Cód.área']\n",
    "\n",
    "for var in tipos_relevantes:\n",
    "    if var in df.columns:\n",
    "        print(f\"   {var}: {df[var].dtype}\")\n"
   ]
  },
  {
   "cell_type": "markdown",
   "id": "2afdab15",
   "metadata": {},
   "source": [
    "Ahora veamos si los cambios se han aplicado correctamente:"
   ]
  },
  {
   "cell_type": "code",
   "execution_count": 23,
   "id": "8010b83e",
   "metadata": {},
   "outputs": [
    {
     "name": "stdout",
     "output_type": "stream",
     "text": [
      "🔍 PRIMERAS FILAS DEL DATASET:\n",
      "======================================================================\n"
     ]
    },
    {
     "data": {
      "application/vnd.microsoft.datawrangler.viewer.v0+json": {
       "columns": [
        {
         "name": "index",
         "rawType": "int64",
         "type": "integer"
        },
        {
         "name": "Ref.CSIC",
         "rawType": "object",
         "type": "string"
        },
        {
         "name": "Ref.UE",
         "rawType": "object",
         "type": "string"
        },
        {
         "name": "Situación",
         "rawType": "object",
         "type": "string"
        },
        {
         "name": "Programa",
         "rawType": "object",
         "type": "string"
        },
        {
         "name": "Acción clave",
         "rawType": "object",
         "type": "string"
        },
        {
         "name": "Título",
         "rawType": "object",
         "type": "string"
        },
        {
         "name": "Comienzo",
         "rawType": "object",
         "type": "string"
        },
        {
         "name": "Final",
         "rawType": "object",
         "type": "string"
        },
        {
         "name": "Duración (meses)",
         "rawType": "Int64",
         "type": "integer"
        },
        {
         "name": "Importe Concedido",
         "rawType": "float64",
         "type": "float"
        },
        {
         "name": "Participantes CSIC",
         "rawType": "Int64",
         "type": "integer"
        },
        {
         "name": "Participantes España (no CSIC)",
         "rawType": "Int64",
         "type": "integer"
        },
        {
         "name": "Total Participantes",
         "rawType": "Int64",
         "type": "integer"
        },
        {
         "name": "Cód.área",
         "rawType": "object",
         "type": "string"
        },
        {
         "name": "Acrónimo del proyecto",
         "rawType": "object",
         "type": "string"
        },
        {
         "name": "Convocatoria",
         "rawType": "object",
         "type": "string"
        },
        {
         "name": "Centro",
         "rawType": "object",
         "type": "string"
        },
        {
         "name": "Nombre Centro IP",
         "rawType": "object",
         "type": "string"
        },
        {
         "name": "Resumen",
         "rawType": "object",
         "type": "string"
        },
        {
         "name": "Keywords",
         "rawType": "object",
         "type": "unknown"
        }
       ],
       "ref": "be6b69e0-fcef-4adb-bc9a-1d1f5b1f44a3",
       "rows": [
        [
         "0",
         "EUROHPC/1238",
         "101196247",
         "VIGENTE",
         "JOINT UNDERTAKING",
         "JOINT UNDERTAKING",
         "Europe-India Partnership for Scientific High-Performance Computing",
         "01/02/2025",
         "31/01/2028",
         "36",
         "302687.5",
         "1",
         "2",
         "10",
         "8903",
         "GANANA",
         "HORIZON-EUROHPC-JU-2023-INCO-06-01",
         "030102",
         "GEOCIENCIAS BARCELONA",
         "HIGH-PERFORMANCE COMPUTING (HPC) IS A MAJOR ENABLER OF PROGRESS IN MANY DOMAINS OF SCIENCE, INCLUDING UN SUSTAINABLE DEVELOPMENT GOALS TOWARDS IMPROVING POPULATION HEALTH AND CLIMATE ACTION. HPC IS DRIVING BREAKTHROUGHS IN GENOMICS, DRUG DISCOVERY, AND PERSONALIZED MEDICINE, AS WELL AS GEOPHYSICAL HAZARD SIMULATIONS, IMPROVING PREPAREDNESS FOR DISASTERS LIKE EARTHQUAKES AND TSUNAMIS, AND SUPPORTS WEATHER AND CLIMATE PREDICTIONS. EUROPE IS AMONG THE WORLD LEADERS IN HPC AND WITH INITIATIVES SUCH AS EUROHPC JU IS ADVANCING THE USAGE OF EXASCALE COMPUTER SYSTEMS FOR RESEARCH. INDIA IS EXPANDING ITS HPC CAPABILITIES THROUGH THE NATIONAL SUPERCOMPUTING MISSION, FOCUSING ON INDIGENOUS TECHNOLOGY AND FOSTERING ACADEMIC, INDUSTRIAL, AND GOVERNMENTAL COLLABORATIONS. COMBINING EUROPE¿S ADVANCED INFRASTRUCTURE WITH INDIA¿S GROWING EXPERTISE OFFERS OPPORTUNITIES FOR INNOVATION IN THOSE STRATEGIC AREAS OF CLIMATE MODELING, DISASTER MANAGEMENT, AND HEALTHCARE. SHARED RESOURCES AND EXPERTISE CAN ENHANCE PREDICTIVE MODELS, ACCELERATE RESPONSES TO PANDEMICS, AND FOSTER TECHNOLOGICAL AND ECONOMIC GROWTH._x000d__x000d_\n_x000d__x000d_\nTHE GANANA PROJECT IS ESTABLISHING A LONG-TERM PARTNERSHIP COLLABORATION BY UNITING EUROPEAN HPC CENTERS OF EXCELLENCE (BIOEXCEL, CHEESE, ESIWACE3) AND INDIAN INSTITUTIONS (C-DAC, IMD, ISR, NII, AIRAWAT) WITH THE OBJECTIVES TO:_x000d__x000d_\n_x000d__x000d_\n¿\tSTRENGTHEN THE LINKS BETWEEN RESEARCH COMMUNITIES IN THE PRIORITY DOMAINS BY SUPPORTING EXISTING AND ESTABLISHING NEW COLLABORATIVE ACTIVITIES. _x000d__x000d_\n¿\tSETUP AND OPERATE A RANGE OF ACTIVITIES IN SUPPORT OF EXPERTISE EXCHANGE, CAPACITY BUILDING AND SHARING OF COMPUTING RESOURCES.  _x000d__x000d_\n¿\tDEVELOP SELECTED LEADING SOFTWARE PACKAGES BY EXTENDING THEIR FUNCTIONALITY, OPTIMISE HPC PERFORMANCE AND SCALABILITY, DEPLOY ON TARGET ARCHITECTURES, IMPROVE USABILITY AND DATA INTEGRATION._x000d__x000d_\n¿\tEXPAND THE OUTREACH, BROADEN THE PARTICIPATION OF EXTERNAL COLLABORATORS AND DEVELOP A FRAMEWORK FOR WIDER COMMUNITY ENGAGEMENT AND COOPERATION._x000d__x000d_\n¿\tINVESTIGATE OPTIONS FOR GOVERNANCE AND FUNDING MODELS, ENGAGE IN A POLICY DIALOGUE WITH KEY STAKEHOLDERS AND DEVELOP A FRAMEWORK FOR LONG-TERM PARTNERSHIP.",
         null
        ],
        [
         "1",
         "HE/CBE/0653",
         "101214822",
         "VIGENTE",
         "JOINT UNDERTAKING",
         "JOINT UNDERTAKING",
         "Bio-based in Soil applications with Optimal biodegradation in their Ultimate Life - The SOUL project",
         "01/09/2025",
         "31/08/2029",
         "48",
         "273837.5",
         "1",
         "6",
         "16",
         "8908",
         "SOUL",
         "HORIZON-JU-CBE-2024",
         "020401",
         "INSTO. CATALISIS Y PETROLEOQUIMICA",
         "THE USE OF PLASTIC PRODUCTS HAS INCREASED SIGNIFICANTLY DUE TO THEIR VERSATILITY, EASE OF MANUFACTURE, AND AFFORDABILITY. HOWEVER, THE_x000d__x000d_\nEXCESSIVE PRODUCTION AND DISPOSAL OF PLASTICS HAVE LED TO ENVIRONMENTAL CONCERNS. PACKAGING AND CONSTRUCTION ARE THE LARGEST ENDUSE_x000d__x000d_\nMARKETS FOR PLASTICS IN THE EU. AGRICULTURE IS ANOTHER MAJOR USER, WITH PLASTIC PRODUCTS LIKE MULCHING FILMS, CONTROLLED-RELEASE_x000d__x000d_\nFERTILIZERS, AND TREE GUARDS BEING WIDELY USED. WHILE THESE PRODUCTS OFFER BENEFITS LIKE WATER CONSERVATION, WEED CONTROL, AND_x000d__x000d_\nINCREASED YIELDS, THEY ALSO POSE RISKS OF SOIL POLLUTION AND ENVIRONMENTAL CONTAMINATION. THE MAJORITY OF AGRICULTURAL PLASTICS ARE NOT_x000d__x000d_\nCOLLECTED OR RECYCLED, LEADING TO IMPROPER DISPOSAL AND LANDFILLING. OTHER PLASTIC PRODUCTS, SUCH AS TURF NETS AND INFILLS, ARE NOT_x000d__x000d_\nBIODEGRADABLE AND DIFFICULT TO RECOVER FOR RECYCLING._x000d__x000d_\nTO ADDRESS THESE ISSUES, SOUL AIMS TO DEVELOP NOVEL, BIODEGRADABLE MATERIALS WITH HIGH RENEWABLE CONTENT. THE CONSORTIUM PARTNERS_x000d__x000d_\nWILL FOCUS ON PRODUCING NEW MATERIALS, TRANSFORMING EXISTING PLASTIC PRODUCTS, AND DEVELOPING SUSTAINABLE END-OF-LIFE SOLUTIONS. BY_x000d__x000d_\nADDRESSING WASTE MANAGEMENT, REDUCING CARBON FOOTPRINTS, AND PREVENTING SOIL CONTAMINATION, SOUL SEEKS TO CONTRIBUTE TO A MORE_x000d__x000d_\nSUSTAINABLE AND CIRCULAR PLASTIC ECONOMY._x000d__x000d_\nSOUL WILL DEPLOY AT TRL8, WITH A CIRCULAR BIOECONOMY AND MULTI-ACTOR APPROACH, A COMPLETE VALUE CHAIN TO PRODUCE 11 INNOVATIVE BIOBASED_x000d__x000d_\nAND BIODEGRADABLE IN SOIL PRODUCT SOLUTIONS MEETING HIGH MARKET DEMAND, BY THE COMBINATION OF 3 BUILDING BLOCKS AND 8_x000d__x000d_\nTECHNOLOGIES, REACHING SOLUTIONS WITH A 95% OF RENEWABLE RAW MATERIALS WHILE ENSURING A PLATFORM ABLE TO RESPOND TO THE DIFFERENT_x000d__x000d_\nAPPLICATION NEEDS.",
         "IMPROVED CONTROLLED BIODEGRADABILIY; IMPROVED SOIL STRUCTURE; IMPROVED SOIL BIODIVERSITY"
        ],
        [
         "2",
         "HE/CBE/0653",
         "101214822",
         "VIGENTE",
         "JOINT UNDERTAKING",
         "JOINT UNDERTAKING",
         "Bio-based in Soil applications with Optimal biodegradation in their Ultimate Life - The SOUL project",
         "01/09/2025",
         "31/08/2029",
         "48",
         "273837.5",
         "1",
         "6",
         "16",
         "8908",
         "SOUL",
         "HORIZON-JU-CBE-2024",
         "020401",
         "INSTO. CATALISIS Y PETROLEOQUIMICA",
         "THE USE OF PLASTIC PRODUCTS HAS INCREASED SIGNIFICANTLY DUE TO THEIR VERSATILITY, EASE OF MANUFACTURE, AND AFFORDABILITY. HOWEVER, THE_x000d__x000d_\nEXCESSIVE PRODUCTION AND DISPOSAL OF PLASTICS HAVE LED TO ENVIRONMENTAL CONCERNS. PACKAGING AND CONSTRUCTION ARE THE LARGEST ENDUSE_x000d__x000d_\nMARKETS FOR PLASTICS IN THE EU. AGRICULTURE IS ANOTHER MAJOR USER, WITH PLASTIC PRODUCTS LIKE MULCHING FILMS, CONTROLLED-RELEASE_x000d__x000d_\nFERTILIZERS, AND TREE GUARDS BEING WIDELY USED. WHILE THESE PRODUCTS OFFER BENEFITS LIKE WATER CONSERVATION, WEED CONTROL, AND_x000d__x000d_\nINCREASED YIELDS, THEY ALSO POSE RISKS OF SOIL POLLUTION AND ENVIRONMENTAL CONTAMINATION. THE MAJORITY OF AGRICULTURAL PLASTICS ARE NOT_x000d__x000d_\nCOLLECTED OR RECYCLED, LEADING TO IMPROPER DISPOSAL AND LANDFILLING. OTHER PLASTIC PRODUCTS, SUCH AS TURF NETS AND INFILLS, ARE NOT_x000d__x000d_\nBIODEGRADABLE AND DIFFICULT TO RECOVER FOR RECYCLING._x000d__x000d_\nTO ADDRESS THESE ISSUES, SOUL AIMS TO DEVELOP NOVEL, BIODEGRADABLE MATERIALS WITH HIGH RENEWABLE CONTENT. THE CONSORTIUM PARTNERS_x000d__x000d_\nWILL FOCUS ON PRODUCING NEW MATERIALS, TRANSFORMING EXISTING PLASTIC PRODUCTS, AND DEVELOPING SUSTAINABLE END-OF-LIFE SOLUTIONS. BY_x000d__x000d_\nADDRESSING WASTE MANAGEMENT, REDUCING CARBON FOOTPRINTS, AND PREVENTING SOIL CONTAMINATION, SOUL SEEKS TO CONTRIBUTE TO A MORE_x000d__x000d_\nSUSTAINABLE AND CIRCULAR PLASTIC ECONOMY._x000d__x000d_\nSOUL WILL DEPLOY AT TRL8, WITH A CIRCULAR BIOECONOMY AND MULTI-ACTOR APPROACH, A COMPLETE VALUE CHAIN TO PRODUCE 11 INNOVATIVE BIOBASED_x000d__x000d_\nAND BIODEGRADABLE IN SOIL PRODUCT SOLUTIONS MEETING HIGH MARKET DEMAND, BY THE COMBINATION OF 3 BUILDING BLOCKS AND 8_x000d__x000d_\nTECHNOLOGIES, REACHING SOLUTIONS WITH A 95% OF RENEWABLE RAW MATERIALS WHILE ENSURING A PLATFORM ABLE TO RESPOND TO THE DIFFERENT_x000d__x000d_\nAPPLICATION NEEDS.",
         "IMPROVED CONTROLLED BIODEGRADABILIY; IMPROVED SOIL STRUCTURE; IMPROVED SOIL BIODIVERSITY"
        ],
        [
         "3",
         "HE/CLEANH2/0431",
         "101137792",
         "VIGENTE",
         "JTI-CLEANH2",
         "JTI-CLEANH2",
         "A novel multi-stage steam gasification and syngas purification demonstration plant for waste to hydrogen conversion",
         "01/01/2024",
         "31/12/2027",
         "48",
         "220047.5",
         "1",
         "10",
         "16",
         "8908",
         "HYIELD",
         "HORIZON-JTI-CLEANH2-2023-1",
         "020403",
         "INSTO. CARBOQUIMICA",
         "EUROPE FACES THE JOINT CHALLENGE OF DECARBONISING EVER NEWER SECTORS AND APPLICATIONS, WHILST ALSO SEEKING CLEAN WASTE TREATMENT AND VALORISATION PATHWAYS. WITH OVER 300MT OF WASTE GENERATED EACH YEAR, EUROPE COULD PRODUCE UP TO 30MT OF CLEAN HYDROGEN FROM WASTE TO ACCELERATE THE DECARBONISATION OF CHALLENGING SECTORS LIKE AVIATION AND HEAVY INDUSTRY. HOWEVER, EXPLOITING THIS ENERGY POTENTIAL REMAINS A CHALLENGE AND SO FAR, NO ROBUST AND COST-EFFECTIVE SOLUTIONS HAS BEEN SUCCESSFULLY COMMERCIALISED. HYIELD AIMS TO OPEN A NEW LOW-COST PATHWAY FOR CLEAN HYDROGEN PRODUCTION AND WASTE DISPOSAL. THE PROJECT PROPOSES A NOVEL MULTI-STAGE STEAM GASIFICATION AND SYNGAS PURIFICATION PLANT CONCEPT, WHICH WILL EFFICIENTLY CONVERT DIFFERENT ORGANIC WASTE STREAMS INTO HYDROGEN AND IS EXPECTED TO ACHIEVE H2 99.97% PURITY AND 62-74% ENERGY CONVERSION EFFICIENCY. THE CONCEPT INCLUDES SEVERAL BEYOND STATE-OF-THE-ART INNOVATIONS, INCLUDING A NOVEL PROCESS DESIGN, WASTE HEAT EXPLOITATION, WATER-GAS-SHIFT MEMBRANE REACTOR, LOW-PRESSURE METAL HYDRIDE STORAGE BUFFER AND IA DRIVEN DIGITAL TWIN. THE SOLUTION WILL BE IMPLEMENTED AT 3MW SCALE IN A CEMENT PLANT IN SPAIN, WHERE THE HYDROGEN WILL BE EXPLOITED FOR CEMENT KILN FIRING. THE DEMONSTRATOR IS EXPECTED TO OPERATE FOR 4,000H OVER A 15-MONTH TESTING PERIOD WITH AT LEAST 10 DIFFERENT ORGANIC WASTE STREAMS, TREATING OVER 3.9KT OF DRY MATERIAL AND PRODUCING 650T OF HYDROGEN. IT WILL ALSO CARRY OUT THE GROUNDWORK FOR UP-SCALING POST-PROJECT LOCALLY AND ACROSS THE EU, WORKING CLOSELY WITH INDUSTRIAL PARTNERS FROM THE CEMENT, STEEL, COPPER AND GAS SECTORS. IT IS FORECASTED THAT THE SOLUTION WILL BE ABLE TO DELIVER A LEVELIZED COST OF HYDROGEN OF 2.19€/KG AT INDUSTRIAL SCALE (20,000T/YEAR WASTE TREATED), FAR BELOW CURRENT ELECTROLYSER PATHWAYS (>5.5€/KG). THE PROJECT IS LED BY A CONSORTIUM OF EUROPE¿S LEADING RESEARCH GROUPS, TECHNOLOGY DEVELOPERS AND INDUSTRIAL PLAYERS IN THE HYDROGEN SECTOR, FROM SPAIN, FRANCE, GERMANY, NORWAY AND LUXEMBOURG.",
         null
        ],
        [
         "4",
         "HE/CLEANH2/0571",
         "101137756",
         "VIGENTE",
         "JTI-CLEANH2",
         "JTI-CLEANH2",
         "Carbon-negative pressurized hydrogen production from waste using an energy efficient protonic membrane reformer_x000d__x000d_\nCARMA-H2",
         "01/10/2024",
         "30/09/2028",
         "48",
         "224156.25",
         "0",
         "0",
         "0",
         "8908",
         "CARMA-H2",
         "HORIZON-JTI-CLEANH2-2023-1",
         "020166",
         "INSTO. TECNOLOGIA QUIMICA",
         "CARMA-H2 WILL ENABLE HIGHLY ATTRACTIVE HYDROGEN PRODUCTION FROM BIOGAS THROUGH DEMONSTRATION OF A PROTONIC MEMBRANE REFORMER (BIOPMR) THAT INTEGRATES STEAM METHANE REFORMING AND WATER-GAS SHIFT REACTIONS, HYDROGEN SEPARATION, HEAT MANAGEMENT, CO2 CAPTURE AND HYDROGEN COMPRESSION IN A SINGLE STAGE. THE REALIZATION OF 6 PROCESS STEPS IN A SINGLE REACTOR ALLOWS TO ACHIEVE UNPRECEDENTED ENERGY EFFICIENCY WITH A PROJECT TARGET TO DEMONSTRATE >85% (HHV) AT THE BIOPMR LEVEL. THE BIOPMR TECHNOLOGY ENABLES DIRECT DELIVERY OF PURIFIED AND PRESSURIZED H2 (30 BAR). BIOPMR WILL BE COUPLED WITH CO2 LIQUEFACTION TO ENABLE DIRECT PRODUCTION OF FOOD-GRADE CO2. COUPLING THE LIQUEFACTION UNIT ALLOWS FOR HIGHER HYDROGEN RECOVERY AND LIQUID CO2 PRODUCTION AS THE OFF-GAS FROM THE LIQUEFACTION PROCESS WILL BE RECYCLED BACK TO THE BIOPMR UNIT. CARMA-H2 WILL DEMONSTRATE THE BIOPMR TECHNOLOGY INTEGRATED WITH CO2 LIQUEFACTION AT THE EXISTING ARAZURI WASTEWATER TREATMENT PLANT IN THE REGION OF NAVARRA IN SPAIN. THE DEMONSTRATION PLANT WILL BE OPERATED FOR AT LEAST 4000 H, AND PRODUCE 500 KG/DAY OF HYDROGEN AND ABOVE 4000 KG/DAY OF FOOD-GRADE CO2. TO FACILITATE THE DEMONSTRATION CARMA-H2 WILL INSTALL 1) A PRE-TREATMENT SYSTEM FOR BIOGAS COMPRESSION AND REMOVAL OF SULPHUR AND OTHER IMPURITIES, 2) TWO BIOPMR MODULES WHICH WILL OPERATE DIRECTLY ON BIOGAS (CO2 > 40 VOL.%), AND 3) AN INTEGRATED CO2 LIQUEFACTION UNIT. THE DEMONSTRATION PLANT WILL BE LOCATED IN EBRO VALLEY HYDROGEN CORRIDOR, AND THE PROJECT AIMS TO SECURE OFF-TAKE OF THE PRODUCED HYDROGEN AND LIQUID CO2 DURING OPERATION. THE OVERALL SYSTEM WILL BE CONTROLLED AND ANALYSED BY AN ADVANCED CONTROL SYSTEM AND AN ASSOCIATED DIGITAL TWIN THAT WILL BE DEVELOPED IN THE PROJECT. THE WASTEWATER PLANT IS CURRENTLY OPERATING A BIOGAS PRODUCTION PLANT OF >4 MW FROM WHICH THE BIOGAS IS UTILIZED FOR POWER GENERATION. THE ACHIEVEMENTS IN CARMA-H2 WILL BE AN IMPORTANT PROOF OF TECHNOLOGICAL FEASIBILITY ADVANCING THE TECHNOLOGY FROM TRL5 TO TRL7.",
         "CARBON NEGATIVE ELECTROCHEMICAL HYDROGEN PRODUCTION; DEMONSTRATION PLANT; PROTON CONDUCTING CERAMICS; WASTE-TO-HYDROGEN"
        ]
       ],
       "shape": {
        "columns": 20,
        "rows": 5
       }
      },
      "text/html": [
       "<div>\n",
       "<style scoped>\n",
       "    .dataframe tbody tr th:only-of-type {\n",
       "        vertical-align: middle;\n",
       "    }\n",
       "\n",
       "    .dataframe tbody tr th {\n",
       "        vertical-align: top;\n",
       "    }\n",
       "\n",
       "    .dataframe thead th {\n",
       "        text-align: right;\n",
       "    }\n",
       "</style>\n",
       "<table border=\"1\" class=\"dataframe\">\n",
       "  <thead>\n",
       "    <tr style=\"text-align: right;\">\n",
       "      <th></th>\n",
       "      <th>Ref.CSIC</th>\n",
       "      <th>Ref.UE</th>\n",
       "      <th>Situación</th>\n",
       "      <th>Programa</th>\n",
       "      <th>Acción clave</th>\n",
       "      <th>Título</th>\n",
       "      <th>Comienzo</th>\n",
       "      <th>Final</th>\n",
       "      <th>Duración (meses)</th>\n",
       "      <th>Importe Concedido</th>\n",
       "      <th>Participantes CSIC</th>\n",
       "      <th>Participantes España (no CSIC)</th>\n",
       "      <th>Total Participantes</th>\n",
       "      <th>Cód.área</th>\n",
       "      <th>Acrónimo del proyecto</th>\n",
       "      <th>Convocatoria</th>\n",
       "      <th>Centro</th>\n",
       "      <th>Nombre Centro IP</th>\n",
       "      <th>Resumen</th>\n",
       "      <th>Keywords</th>\n",
       "    </tr>\n",
       "  </thead>\n",
       "  <tbody>\n",
       "    <tr>\n",
       "      <th>0</th>\n",
       "      <td>EUROHPC/1238</td>\n",
       "      <td>101196247</td>\n",
       "      <td>VIGENTE</td>\n",
       "      <td>JOINT UNDERTAKING</td>\n",
       "      <td>JOINT UNDERTAKING</td>\n",
       "      <td>Europe-India Partnership for Scientific High-P...</td>\n",
       "      <td>01/02/2025</td>\n",
       "      <td>31/01/2028</td>\n",
       "      <td>36</td>\n",
       "      <td>302687.50</td>\n",
       "      <td>1</td>\n",
       "      <td>2</td>\n",
       "      <td>10</td>\n",
       "      <td>8903</td>\n",
       "      <td>GANANA</td>\n",
       "      <td>HORIZON-EUROHPC-JU-2023-INCO-06-01</td>\n",
       "      <td>030102</td>\n",
       "      <td>GEOCIENCIAS BARCELONA</td>\n",
       "      <td>HIGH-PERFORMANCE COMPUTING (HPC) IS A MAJOR EN...</td>\n",
       "      <td>NaN</td>\n",
       "    </tr>\n",
       "    <tr>\n",
       "      <th>1</th>\n",
       "      <td>HE/CBE/0653</td>\n",
       "      <td>101214822</td>\n",
       "      <td>VIGENTE</td>\n",
       "      <td>JOINT UNDERTAKING</td>\n",
       "      <td>JOINT UNDERTAKING</td>\n",
       "      <td>Bio-based in Soil applications with Optimal bi...</td>\n",
       "      <td>01/09/2025</td>\n",
       "      <td>31/08/2029</td>\n",
       "      <td>48</td>\n",
       "      <td>273837.50</td>\n",
       "      <td>1</td>\n",
       "      <td>6</td>\n",
       "      <td>16</td>\n",
       "      <td>8908</td>\n",
       "      <td>SOUL</td>\n",
       "      <td>HORIZON-JU-CBE-2024</td>\n",
       "      <td>020401</td>\n",
       "      <td>INSTO. CATALISIS Y PETROLEOQUIMICA</td>\n",
       "      <td>THE USE OF PLASTIC PRODUCTS HAS INCREASED SIGN...</td>\n",
       "      <td>IMPROVED CONTROLLED BIODEGRADABILIY; IMPROVED ...</td>\n",
       "    </tr>\n",
       "    <tr>\n",
       "      <th>2</th>\n",
       "      <td>HE/CBE/0653</td>\n",
       "      <td>101214822</td>\n",
       "      <td>VIGENTE</td>\n",
       "      <td>JOINT UNDERTAKING</td>\n",
       "      <td>JOINT UNDERTAKING</td>\n",
       "      <td>Bio-based in Soil applications with Optimal bi...</td>\n",
       "      <td>01/09/2025</td>\n",
       "      <td>31/08/2029</td>\n",
       "      <td>48</td>\n",
       "      <td>273837.50</td>\n",
       "      <td>1</td>\n",
       "      <td>6</td>\n",
       "      <td>16</td>\n",
       "      <td>8908</td>\n",
       "      <td>SOUL</td>\n",
       "      <td>HORIZON-JU-CBE-2024</td>\n",
       "      <td>020401</td>\n",
       "      <td>INSTO. CATALISIS Y PETROLEOQUIMICA</td>\n",
       "      <td>THE USE OF PLASTIC PRODUCTS HAS INCREASED SIGN...</td>\n",
       "      <td>IMPROVED CONTROLLED BIODEGRADABILIY; IMPROVED ...</td>\n",
       "    </tr>\n",
       "    <tr>\n",
       "      <th>3</th>\n",
       "      <td>HE/CLEANH2/0431</td>\n",
       "      <td>101137792</td>\n",
       "      <td>VIGENTE</td>\n",
       "      <td>JTI-CLEANH2</td>\n",
       "      <td>JTI-CLEANH2</td>\n",
       "      <td>A novel multi-stage steam gasification and syn...</td>\n",
       "      <td>01/01/2024</td>\n",
       "      <td>31/12/2027</td>\n",
       "      <td>48</td>\n",
       "      <td>220047.50</td>\n",
       "      <td>1</td>\n",
       "      <td>10</td>\n",
       "      <td>16</td>\n",
       "      <td>8908</td>\n",
       "      <td>HYIELD</td>\n",
       "      <td>HORIZON-JTI-CLEANH2-2023-1</td>\n",
       "      <td>020403</td>\n",
       "      <td>INSTO. CARBOQUIMICA</td>\n",
       "      <td>EUROPE FACES THE JOINT CHALLENGE OF DECARBONIS...</td>\n",
       "      <td>NaN</td>\n",
       "    </tr>\n",
       "    <tr>\n",
       "      <th>4</th>\n",
       "      <td>HE/CLEANH2/0571</td>\n",
       "      <td>101137756</td>\n",
       "      <td>VIGENTE</td>\n",
       "      <td>JTI-CLEANH2</td>\n",
       "      <td>JTI-CLEANH2</td>\n",
       "      <td>Carbon-negative pressurized hydrogen productio...</td>\n",
       "      <td>01/10/2024</td>\n",
       "      <td>30/09/2028</td>\n",
       "      <td>48</td>\n",
       "      <td>224156.25</td>\n",
       "      <td>0</td>\n",
       "      <td>0</td>\n",
       "      <td>0</td>\n",
       "      <td>8908</td>\n",
       "      <td>CARMA-H2</td>\n",
       "      <td>HORIZON-JTI-CLEANH2-2023-1</td>\n",
       "      <td>020166</td>\n",
       "      <td>INSTO. TECNOLOGIA QUIMICA</td>\n",
       "      <td>CARMA-H2 WILL ENABLE HIGHLY ATTRACTIVE HYDROGE...</td>\n",
       "      <td>CARBON NEGATIVE ELECTROCHEMICAL HYDROGEN PRODU...</td>\n",
       "    </tr>\n",
       "  </tbody>\n",
       "</table>\n",
       "</div>"
      ],
      "text/plain": [
       "          Ref.CSIC     Ref.UE Situación           Programa       Acción clave  \\\n",
       "0     EUROHPC/1238  101196247   VIGENTE  JOINT UNDERTAKING  JOINT UNDERTAKING   \n",
       "1      HE/CBE/0653  101214822   VIGENTE  JOINT UNDERTAKING  JOINT UNDERTAKING   \n",
       "2      HE/CBE/0653  101214822   VIGENTE  JOINT UNDERTAKING  JOINT UNDERTAKING   \n",
       "3  HE/CLEANH2/0431  101137792   VIGENTE        JTI-CLEANH2        JTI-CLEANH2   \n",
       "4  HE/CLEANH2/0571  101137756   VIGENTE        JTI-CLEANH2        JTI-CLEANH2   \n",
       "\n",
       "                                              Título    Comienzo       Final  \\\n",
       "0  Europe-India Partnership for Scientific High-P...  01/02/2025  31/01/2028   \n",
       "1  Bio-based in Soil applications with Optimal bi...  01/09/2025  31/08/2029   \n",
       "2  Bio-based in Soil applications with Optimal bi...  01/09/2025  31/08/2029   \n",
       "3  A novel multi-stage steam gasification and syn...  01/01/2024  31/12/2027   \n",
       "4  Carbon-negative pressurized hydrogen productio...  01/10/2024  30/09/2028   \n",
       "\n",
       "   Duración (meses)  Importe Concedido  Participantes CSIC  \\\n",
       "0                36          302687.50                   1   \n",
       "1                48          273837.50                   1   \n",
       "2                48          273837.50                   1   \n",
       "3                48          220047.50                   1   \n",
       "4                48          224156.25                   0   \n",
       "\n",
       "   Participantes España (no CSIC)  Total Participantes Cód.área  \\\n",
       "0                               2                   10     8903   \n",
       "1                               6                   16     8908   \n",
       "2                               6                   16     8908   \n",
       "3                              10                   16     8908   \n",
       "4                               0                    0     8908   \n",
       "\n",
       "  Acrónimo del proyecto                        Convocatoria  Centro  \\\n",
       "0                GANANA  HORIZON-EUROHPC-JU-2023-INCO-06-01  030102   \n",
       "1                  SOUL                 HORIZON-JU-CBE-2024  020401   \n",
       "2                  SOUL                 HORIZON-JU-CBE-2024  020401   \n",
       "3                HYIELD          HORIZON-JTI-CLEANH2-2023-1  020403   \n",
       "4              CARMA-H2          HORIZON-JTI-CLEANH2-2023-1  020166   \n",
       "\n",
       "                     Nombre Centro IP  \\\n",
       "0               GEOCIENCIAS BARCELONA   \n",
       "1  INSTO. CATALISIS Y PETROLEOQUIMICA   \n",
       "2  INSTO. CATALISIS Y PETROLEOQUIMICA   \n",
       "3                 INSTO. CARBOQUIMICA   \n",
       "4           INSTO. TECNOLOGIA QUIMICA   \n",
       "\n",
       "                                             Resumen  \\\n",
       "0  HIGH-PERFORMANCE COMPUTING (HPC) IS A MAJOR EN...   \n",
       "1  THE USE OF PLASTIC PRODUCTS HAS INCREASED SIGN...   \n",
       "2  THE USE OF PLASTIC PRODUCTS HAS INCREASED SIGN...   \n",
       "3  EUROPE FACES THE JOINT CHALLENGE OF DECARBONIS...   \n",
       "4  CARMA-H2 WILL ENABLE HIGHLY ATTRACTIVE HYDROGE...   \n",
       "\n",
       "                                            Keywords  \n",
       "0                                                NaN  \n",
       "1  IMPROVED CONTROLLED BIODEGRADABILIY; IMPROVED ...  \n",
       "2  IMPROVED CONTROLLED BIODEGRADABILIY; IMPROVED ...  \n",
       "3                                                NaN  \n",
       "4  CARBON NEGATIVE ELECTROCHEMICAL HYDROGEN PRODU...  "
      ]
     },
     "metadata": {},
     "output_type": "display_data"
    },
    {
     "name": "stdout",
     "output_type": "stream",
     "text": [
      "\n",
      "📊 INFORMACIÓN BÁSICA:\n",
      "Total proyectos: 719\n"
     ]
    }
   ],
   "source": [
    "# Vista previa de datos\n",
    "print(\"🔍 PRIMERAS FILAS DEL DATASET:\")\n",
    "print(\"=\" * 70)\n",
    "display(df.head())\n",
    "\n",
    "print(\"\\n📊 INFORMACIÓN BÁSICA:\")\n",
    "print(f\"Total proyectos: {len(df)}\")"
   ]
  },
  {
   "cell_type": "markdown",
   "id": "4fe3a0c1",
   "metadata": {},
   "source": [
    "Ahora las variables numéricas tienen el formato correcto"
   ]
  },
  {
   "cell_type": "markdown",
   "id": "eb9269c6",
   "metadata": {},
   "source": [
    "## 4. Eliminación de Duplicados\n",
    "\n",
    "Al reflejar cada registro un proyecto individual, los campos que actuan como clave (`Ref. CSIC`, `Ref. UE`, `Acrónimo del proyecto`) no deberían repetirse. A continuación se detectan y eliminan posibles duplicados en base a `Ref.CSIC` (anteriormente se eliminan los nulos)."
   ]
  },
  {
   "cell_type": "code",
   "execution_count": 24,
   "id": "04df6767",
   "metadata": {},
   "outputs": [
    {
     "name": "stdout",
     "output_type": "stream",
     "text": [
      "🧹 ELIMINACIÓN DE NULOS Y DUPLICADOS EN Ref.CSIC\n",
      "============================================================\n",
      "✅ Filas con Ref.CSIC nulo eliminadas: 24\n",
      "✅ Duplicados por Ref.CSIC eliminados: 1\n",
      "📊 Dataset final: 694 proyectos únicos\n"
     ]
    }
   ],
   "source": [
    "# Eliminar filas con Ref.CSIC nulo\n",
    "print(\"🧹 ELIMINACIÓN DE NULOS Y DUPLICADOS EN Ref.CSIC\")\n",
    "print(\"=\" * 60)\n",
    "\n",
    "# 1. Eliminar filas donde Ref.CSIC es nulo\n",
    "filas_antes = len(df)\n",
    "df = df.dropna(subset=['Ref.CSIC'])\n",
    "filas_despues_nulos = len(df)\n",
    "nulos_eliminados = filas_antes - filas_despues_nulos\n",
    "\n",
    "print(f\"✅ Filas con Ref.CSIC nulo eliminadas: {nulos_eliminados}\")\n",
    "\n",
    "# 2. Eliminar duplicados por Ref.CSIC (mantener primera ocurrencia)\n",
    "df = df.drop_duplicates(subset=['Ref.CSIC'], keep='first')\n",
    "filas_final = len(df)\n",
    "duplicados_eliminados = filas_despues_nulos - filas_final\n",
    "\n",
    "print(f\"✅ Duplicados por Ref.CSIC eliminados: {duplicados_eliminados}\")\n",
    "print(f\"📊 Dataset final: {filas_final} proyectos únicos\")\n",
    "\n"
   ]
  },
  {
   "cell_type": "markdown",
   "id": "69b030e3",
   "metadata": {},
   "source": [
    "## 5. Normalización de Nombres de Centros\n",
    "\n",
    "**CRÍTICO**: `nombre centro IP` puede tener variaciones (abreviaturas).  \n",
    "Normalizar usando `Centro` (código) como referencia."
   ]
  },
  {
   "cell_type": "code",
   "execution_count": 25,
   "id": "a03dbe17",
   "metadata": {},
   "outputs": [
    {
     "name": "stdout",
     "output_type": "stream",
     "text": [
      "🔍 ANÁLISIS DE NOMBRES DE CENTROS:\n",
      "======================================================================\n",
      "\n",
      "======================================================================\n",
      "✅ No se encontraron variaciones en nombres de centros\n",
      "✅ No se encontraron variaciones en nombres de centros\n"
     ]
    }
   ],
   "source": [
    "# Explorar relación Centro - nombre centro IP\n",
    "if 'Centro' in df.columns and 'Nombre Centro IP' in df.columns:\n",
    "    print(\"🔍 ANÁLISIS DE NOMBRES DE CENTROS:\")\n",
    "    print(\"=\" * 70)\n",
    "    \n",
    "    # Agrupar por código de centro y ver variaciones de nombres\n",
    "    centro_nombres = df.groupby('Centro')['Nombre Centro IP'].unique()\n",
    "    \n",
    "    # Detectar centros con múltiples nombres\n",
    "    centros_multiples = {centro: nombres for centro, nombres in centro_nombres.items() \n",
    "                         if len(nombres) > 1}\n",
    "    \n",
    "    if centros_multiples:\n",
    "        print(f\"\\n⚠️ Se encontraron {len(centros_multiples)} centros con múltiples variaciones de nombre:\")\n",
    "        for centro, nombres in list(centros_multiples.items())[:10]:  # Mostrar primeros 10\n",
    "            print(f\"\\n  Centro código: {centro}\")\n",
    "            for nombre in nombres:\n",
    "                print(f\"    - {nombre}\")\n",
    "    else:\n",
    "        print(\"✅ No se encontraron variaciones en nombres de centros\")"
   ]
  },
  {
   "cell_type": "code",
   "execution_count": 26,
   "id": "f8852daf",
   "metadata": {},
   "outputs": [
    {
     "name": "stdout",
     "output_type": "stream",
     "text": [
      "\n",
      "✅ Normalización completada:\n",
      "   Total de registros con nombre normalizado: 0\n",
      "   Centros únicos: 118\n"
     ]
    }
   ],
   "source": [
    "# Normalizar nombres de centros usando el nombre más frecuente por código\n",
    "if 'Centro' in df.columns and 'Nombre Centro IP' in df.columns:\n",
    "    # Crear mapeo: código centro → nombre más frecuente\n",
    "    centro_nombre_map = {}\n",
    "    \n",
    "    for centro in df['Centro'].unique():\n",
    "        if pd.notna(centro):\n",
    "            # Obtener nombre más frecuente para este centro\n",
    "            nombres = df[df['Centro'] == centro]['Nombre Centro IP']\n",
    "            nombre_frecuente = nombres.mode()[0] if len(nombres.mode()) > 0 else nombres.iloc[0]\n",
    "            centro_nombre_map[centro] = nombre_frecuente\n",
    "    \n",
    "    # Aplicar normalización\n",
    "    df['Nombre Centro IP Normalizado'] = df['Centro'].map(centro_nombre_map)\n",
    "    \n",
    "    # Contar cambios\n",
    "    cambios = (df['Nombre Centro IP'] != df['Nombre Centro IP Normalizado']).sum()\n",
    "    print(f\"\\n✅ Normalización completada:\")\n",
    "    print(f\"   Total de registros con nombre normalizado: {cambios}\")\n",
    "    print(f\"   Centros únicos: {df['Nombre Centro IP Normalizado'].nunique()}\")\n",
    "\n",
    "    # Mostrar ejemplo de normalización\n",
    "    if cambios > 0:\n",
    "        print(\"\\n📊 Ejemplos de normalización:\")\n",
    "        ejemplos = df[df['Nombre Centro IP'] != df['Nombre Centro IP Normalizado']][\n",
    "            ['Centro', 'Nombre Centro IP', 'Nombre Centro IP Normalizado']\n",
    "        ].head(5)\n",
    "        display(ejemplos)"
   ]
  },
  {
   "cell_type": "markdown",
   "id": "85a57537",
   "metadata": {},
   "source": [
    "## 6. Conversión de Variables temporales\n",
    "\n",
    "Modificar el tipo de dato de las variables temporales para asegurarse de que tengan el tipo correcto"
   ]
  },
  {
   "cell_type": "code",
   "execution_count": 27,
   "id": "5920a313",
   "metadata": {},
   "outputs": [
    {
     "name": "stdout",
     "output_type": "stream",
     "text": [
      "🗓️ CONVERSIÓN DE VARIABLES TEMPORALES:\n",
      "============================================================\n",
      "   ✅ Comienzo → datetime64[ns]\n",
      "   ✅ Final → datetime64[ns]\n",
      "\n",
      "📊 Verificación de tipos de datos temporales:\n",
      "   Comienzo: datetime64[ns]\n",
      "     Rango: 2021-01-01 00:00:00 a 2026-01-09 00:00:00\n",
      "   Final: datetime64[ns]\n",
      "     Rango: 2022-12-31 00:00:00 a 2034-05-31 00:00:00\n",
      "\n",
      "✅ Conversión de variables temporales completada\n"
     ]
    }
   ],
   "source": [
    "# Convertir variables temporales a formato datetime\n",
    "print(\"🗓️ CONVERSIÓN DE VARIABLES TEMPORALES:\")\n",
    "print(\"=\" * 60)\n",
    "\n",
    "# Variables temporales a convertir\n",
    "variables_temporales = ['Comienzo', 'Final']\n",
    "\n",
    "for var in variables_temporales:\n",
    "    if var in df.columns:\n",
    "        # Convertir a datetime\n",
    "        df[var] = pd.to_datetime(df[var], errors='coerce')\n",
    "        print(f\"   ✅ {var} → datetime64[ns]\")\n",
    "\n",
    "# Verificar conversión\n",
    "print(\"\\n📊 Verificación de tipos de datos temporales:\")\n",
    "for var in variables_temporales:\n",
    "    if var in df.columns:\n",
    "        print(f\"   {var}: {df[var].dtype}\")\n",
    "        # Mostrar rango de fechas\n",
    "        fecha_min = df[var].min()\n",
    "        fecha_max = df[var].max()\n",
    "        print(f\"     Rango: {fecha_min} a {fecha_max}\")\n",
    "\n",
    "print(\"\\n✅ Conversión de variables temporales completada\")"
   ]
  },
  {
   "cell_type": "markdown",
   "id": "0a6140a0",
   "metadata": {},
   "source": [
    "## 7. Limpieza de Strings\n",
    "\n",
    "Eliminar espacios y normalizar formato"
   ]
  },
  {
   "cell_type": "code",
   "execution_count": 28,
   "id": "8edbd49b",
   "metadata": {},
   "outputs": [
    {
     "name": "stdout",
     "output_type": "stream",
     "text": [
      "✅ Limpieza de 14 columnas de texto completada\n"
     ]
    }
   ],
   "source": [
    "# Limpiar columnas de texto\n",
    "text_columns = df.select_dtypes(include=['object']).columns\n",
    "\n",
    "for col in text_columns:\n",
    "    if col in df.columns and df[col].dtype == 'object':\n",
    "        # Eliminar espacios al inicio y final\n",
    "        df[col] = df[col].str.strip()\n",
    "        # Reemplazar múltiples espacios por uno solo\n",
    "        df[col] = df[col].str.replace(r'\\s+', ' ', regex=True)\n",
    "\n",
    "print(f\"✅ Limpieza de {len(text_columns)} columnas de texto completada\")"
   ]
  },
  {
   "cell_type": "markdown",
   "id": "a10f2756",
   "metadata": {},
   "source": [
    "## 8. Variables Derivadas: Transformar Areas Científicas antiguas a nuevas\n",
    "\n",
    "La variable `Cód.Área` hace referencia a las antiguas áreas científicas del CSIC. Se transformarán a las nuevas categorías: Vida, Materia y Sociedad (incluyendo tambien las categorías Central y Desconocido)."
   ]
  },
  {
   "cell_type": "code",
   "execution_count": 29,
   "id": "6cfb81c1",
   "metadata": {},
   "outputs": [
    {
     "name": "stdout",
     "output_type": "stream",
     "text": [
      "🔍 DICCIONARIO DE ÁREAS CIENTÍFICAS:\n",
      "==================================================\n"
     ]
    },
    {
     "data": {
      "application/vnd.microsoft.datawrangler.viewer.v0+json": {
       "columns": [
        {
         "name": "index",
         "rawType": "int64",
         "type": "integer"
        },
        {
         "name": "Cód.área",
         "rawType": "int64",
         "type": "integer"
        },
        {
         "name": "Area",
         "rawType": "object",
         "type": "string"
        }
       ],
       "ref": "693d7751-5d88-44d1-8839-f01c8f8f912f",
       "rows": [
        [
         "0",
         "8901",
         "SOCIEDAD"
        ],
        [
         "1",
         "8902",
         "VIDA"
        ],
        [
         "2",
         "8903",
         "VIDA"
        ],
        [
         "3",
         "8904",
         "VIDA"
        ],
        [
         "4",
         "8905",
         "MATERIA"
        ]
       ],
       "shape": {
        "columns": 2,
        "rows": 5
       }
      },
      "text/html": [
       "<div>\n",
       "<style scoped>\n",
       "    .dataframe tbody tr th:only-of-type {\n",
       "        vertical-align: middle;\n",
       "    }\n",
       "\n",
       "    .dataframe tbody tr th {\n",
       "        vertical-align: top;\n",
       "    }\n",
       "\n",
       "    .dataframe thead th {\n",
       "        text-align: right;\n",
       "    }\n",
       "</style>\n",
       "<table border=\"1\" class=\"dataframe\">\n",
       "  <thead>\n",
       "    <tr style=\"text-align: right;\">\n",
       "      <th></th>\n",
       "      <th>Cód.área</th>\n",
       "      <th>Area</th>\n",
       "    </tr>\n",
       "  </thead>\n",
       "  <tbody>\n",
       "    <tr>\n",
       "      <th>0</th>\n",
       "      <td>8901</td>\n",
       "      <td>SOCIEDAD</td>\n",
       "    </tr>\n",
       "    <tr>\n",
       "      <th>1</th>\n",
       "      <td>8902</td>\n",
       "      <td>VIDA</td>\n",
       "    </tr>\n",
       "    <tr>\n",
       "      <th>2</th>\n",
       "      <td>8903</td>\n",
       "      <td>VIDA</td>\n",
       "    </tr>\n",
       "    <tr>\n",
       "      <th>3</th>\n",
       "      <td>8904</td>\n",
       "      <td>VIDA</td>\n",
       "    </tr>\n",
       "    <tr>\n",
       "      <th>4</th>\n",
       "      <td>8905</td>\n",
       "      <td>MATERIA</td>\n",
       "    </tr>\n",
       "  </tbody>\n",
       "</table>\n",
       "</div>"
      ],
      "text/plain": [
       "   Cód.área      Area\n",
       "0      8901  SOCIEDAD\n",
       "1      8902      VIDA\n",
       "2      8903      VIDA\n",
       "3      8904      VIDA\n",
       "4      8905   MATERIA"
      ]
     },
     "metadata": {},
     "output_type": "display_data"
    },
    {
     "name": "stdout",
     "output_type": "stream",
     "text": [
      "\n",
      "📊 MAPEO DE TRANSFORMACIÓN:\n",
      "Cód.área → Area\n",
      "  8901 → SOCIEDAD\n",
      "  8902 → VIDA\n",
      "  8903 → VIDA\n",
      "  8904 → VIDA\n",
      "  8905 → MATERIA\n",
      "  8906 → MATERIA\n",
      "  8907 → VIDA\n",
      "  8908 → MATERIA\n",
      "  8909 → CENTRAL\n",
      "  8900 → DESCONOCIDO\n",
      "\n",
      "✅ TRANSFORMACIÓN COMPLETADA:\n",
      "   Total códigos únicos originales: 10\n",
      "   Total categorías nuevas: 5\n",
      "\n",
      "📈 DISTRIBUCIÓN POR NUEVA CATEGORÍA:\n",
      "   VIDA: 314 proyectos\n",
      "   MATERIA: 244 proyectos\n",
      "   DESCONOCIDO: 98 proyectos\n",
      "   SOCIEDAD: 36 proyectos\n",
      "   CENTRAL: 2 proyectos\n",
      "\n",
      "🔍 VISTA PREVIA DEL DATASET CON NUEVA VARIABLE:\n",
      "======================================================================\n"
     ]
    },
    {
     "data": {
      "application/vnd.microsoft.datawrangler.viewer.v0+json": {
       "columns": [
        {
         "name": "index",
         "rawType": "int64",
         "type": "integer"
        },
        {
         "name": "Ref.CSIC",
         "rawType": "object",
         "type": "string"
        },
        {
         "name": "Título",
         "rawType": "object",
         "type": "string"
        },
        {
         "name": "Cód.área",
         "rawType": "object",
         "type": "string"
        },
        {
         "name": "Area",
         "rawType": "object",
         "type": "string"
        },
        {
         "name": "Centro",
         "rawType": "object",
         "type": "string"
        }
       ],
       "ref": "c5518d63-082d-47b0-b096-86eb1516e777",
       "rows": [
        [
         "0",
         "EUROHPC/1238",
         "Europe-India Partnership for Scientific High-Performance Computing",
         "8903",
         "VIDA",
         "030102"
        ],
        [
         "1",
         "HE/CBE/0653",
         "Bio-based in Soil applications with Optimal biodegradation in their Ultimate Life - The SOUL project",
         "8908",
         "MATERIA",
         "020401"
        ],
        [
         "3",
         "HE/CLEANH2/0431",
         "A novel multi-stage steam gasification and syngas purification demonstration plant for waste to hydrogen conversion",
         "8908",
         "MATERIA",
         "020403"
        ],
        [
         "4",
         "HE/CLEANH2/0571",
         "Carbon-negative pressurized hydrogen production from waste using an energy efficient protonic membrane reformer_x000d__x000d_ CARMA-H2",
         "8908",
         "MATERIA",
         "020166"
        ],
        [
         "5",
         "HE/CLEANH2/0576",
         "DIAGNOSTIC TOOLS AND RISK PROTOCOLS TO ACCELERATE UNDERGROUND HYDROGEN STORAGE",
         "8903",
         "VIDA",
         "030502"
        ]
       ],
       "shape": {
        "columns": 5,
        "rows": 5
       }
      },
      "text/html": [
       "<div>\n",
       "<style scoped>\n",
       "    .dataframe tbody tr th:only-of-type {\n",
       "        vertical-align: middle;\n",
       "    }\n",
       "\n",
       "    .dataframe tbody tr th {\n",
       "        vertical-align: top;\n",
       "    }\n",
       "\n",
       "    .dataframe thead th {\n",
       "        text-align: right;\n",
       "    }\n",
       "</style>\n",
       "<table border=\"1\" class=\"dataframe\">\n",
       "  <thead>\n",
       "    <tr style=\"text-align: right;\">\n",
       "      <th></th>\n",
       "      <th>Ref.CSIC</th>\n",
       "      <th>Título</th>\n",
       "      <th>Cód.área</th>\n",
       "      <th>Area</th>\n",
       "      <th>Centro</th>\n",
       "    </tr>\n",
       "  </thead>\n",
       "  <tbody>\n",
       "    <tr>\n",
       "      <th>0</th>\n",
       "      <td>EUROHPC/1238</td>\n",
       "      <td>Europe-India Partnership for Scientific High-P...</td>\n",
       "      <td>8903</td>\n",
       "      <td>VIDA</td>\n",
       "      <td>030102</td>\n",
       "    </tr>\n",
       "    <tr>\n",
       "      <th>1</th>\n",
       "      <td>HE/CBE/0653</td>\n",
       "      <td>Bio-based in Soil applications with Optimal bi...</td>\n",
       "      <td>8908</td>\n",
       "      <td>MATERIA</td>\n",
       "      <td>020401</td>\n",
       "    </tr>\n",
       "    <tr>\n",
       "      <th>3</th>\n",
       "      <td>HE/CLEANH2/0431</td>\n",
       "      <td>A novel multi-stage steam gasification and syn...</td>\n",
       "      <td>8908</td>\n",
       "      <td>MATERIA</td>\n",
       "      <td>020403</td>\n",
       "    </tr>\n",
       "    <tr>\n",
       "      <th>4</th>\n",
       "      <td>HE/CLEANH2/0571</td>\n",
       "      <td>Carbon-negative pressurized hydrogen productio...</td>\n",
       "      <td>8908</td>\n",
       "      <td>MATERIA</td>\n",
       "      <td>020166</td>\n",
       "    </tr>\n",
       "    <tr>\n",
       "      <th>5</th>\n",
       "      <td>HE/CLEANH2/0576</td>\n",
       "      <td>DIAGNOSTIC TOOLS AND RISK PROTOCOLS TO ACCELER...</td>\n",
       "      <td>8903</td>\n",
       "      <td>VIDA</td>\n",
       "      <td>030502</td>\n",
       "    </tr>\n",
       "  </tbody>\n",
       "</table>\n",
       "</div>"
      ],
      "text/plain": [
       "          Ref.CSIC                                             Título  \\\n",
       "0     EUROHPC/1238  Europe-India Partnership for Scientific High-P...   \n",
       "1      HE/CBE/0653  Bio-based in Soil applications with Optimal bi...   \n",
       "3  HE/CLEANH2/0431  A novel multi-stage steam gasification and syn...   \n",
       "4  HE/CLEANH2/0571  Carbon-negative pressurized hydrogen productio...   \n",
       "5  HE/CLEANH2/0576  DIAGNOSTIC TOOLS AND RISK PROTOCOLS TO ACCELER...   \n",
       "\n",
       "  Cód.área     Area  Centro  \n",
       "0     8903     VIDA  030102  \n",
       "1     8908  MATERIA  020401  \n",
       "3     8908  MATERIA  020403  \n",
       "4     8908  MATERIA  020166  \n",
       "5     8903     VIDA  030502  "
      ]
     },
     "metadata": {},
     "output_type": "display_data"
    }
   ],
   "source": [
    "# Cargar el diccionario de áreas desde el archivo maestros\n",
    "areas_dict = pd.read_excel('../data/maestros.xlsx', sheet_name='Hoja1')\n",
    "\n",
    "print(\"🔍 DICCIONARIO DE ÁREAS CIENTÍFICAS:\")\n",
    "print(\"=\" * 50)\n",
    "display(areas_dict.head())\n",
    "\n",
    "# Convertir Cód.área a string para hacer el mapeo (ambas columnas deben ser del mismo tipo)\n",
    "areas_dict['Cód.área'] = areas_dict['Cód.área'].astype(str)\n",
    "\n",
    "# Crear el mapeo de código antiguo a nueva categoría\n",
    "codigo_a_categoria = dict(zip(areas_dict['Cód.área'], areas_dict['Area']))\n",
    "\n",
    "print(f\"\\n📊 MAPEO DE TRANSFORMACIÓN:\")\n",
    "print(\"Cód.área → Area\")\n",
    "for codigo, categoria in list(codigo_a_categoria.items())[:10]:  # Mostrar primeros 10\n",
    "    print(f\"  {codigo} → {categoria}\")\n",
    "\n",
    "# Transformar la variable Cód.área a las nuevas categorías\n",
    "# IMPORTANTE: La nueva variable se llama 'Area' (sin tilde)\n",
    "df['Area'] = df['Cód.área'].map(codigo_a_categoria)\n",
    "\n",
    "# Verificar la transformación\n",
    "print(f\"\\n✅ TRANSFORMACIÓN COMPLETADA:\")\n",
    "print(f\"   Total códigos únicos originales: {df['Cód.área'].nunique()}\")\n",
    "print(f\"   Total categorías nuevas: {df['Area'].nunique()}\")\n",
    "\n",
    "# Mostrar distribución de nuevas categorías\n",
    "print(f\"\\n📈 DISTRIBUCIÓN POR NUEVA CATEGORÍA:\")\n",
    "distribucion = df['Area'].value_counts()\n",
    "for categoria, count in distribucion.items():\n",
    "    print(f\"   {categoria}: {count} proyectos\")\n",
    "\n",
    "# Verificar si hay códigos sin mapear\n",
    "sin_mapear = df[df['Area'].isna()]['Cód.área'].unique()\n",
    "if len(sin_mapear) > 0:\n",
    "    print(f\"\\n⚠️ CÓDIGOS SIN MAPEAR: {sin_mapear}\")\n",
    "    print(f\"   Total registros sin mapear: {df['Area'].isna().sum()}\")\n",
    "\n",
    "print(f\"\\n🔍 VISTA PREVIA DEL DATASET CON NUEVA VARIABLE:\")\n",
    "print(\"=\" * 70)\n",
    "display(df[['Ref.CSIC', 'Título', 'Cód.área', 'Area', 'Centro']].head())"
   ]
  },
  {
   "cell_type": "markdown",
   "id": "02a8c1f5",
   "metadata": {},
   "source": [
    "## 9. Variables Derivadas: Otras variables derivadas de interés.\n",
    "\n",
    "Con la intención de comparar y analizar mejor los datos, se crearán también otras variables derivadas a partir de las existentes:\n",
    "\n",
    "| **Variable Derivada** | **Tipo** | **Descripción** |\n",
    "|----------------------|----------|-----------------|\n",
    "| **Año Inicio** | `object` | Año de inicio del proyecto |\n",
    "| **Año Fin** | `object` | Año de finalización del proyecto |\n",
    "| **Presupuesto Mensual** | `float64` | Presupuesto total dividido entre la duración en meses |\n",
    "| **Duración (categoría)** | `object` | Clasificación de proyectos por duración (Corto/Medio/Largo) |\n",
    "| **Presupuesto (categoría)** | `object` | Clasificación de proyectos por importe concedido |\n",
    "\n",
    "Estas variables facilitarán análisis temporales, comparaciones por períodos y segmentación de proyectos según magnitud y duración.\n"
   ]
  },
  {
   "cell_type": "code",
   "execution_count": 30,
   "id": "1e963d05",
   "metadata": {},
   "outputs": [
    {
     "name": "stdout",
     "output_type": "stream",
     "text": [
      "🔧 CREACIÓN DE VARIABLES DERIVADAS:\n",
      "==================================================\n",
      "   ✅ Año Inicio y Año Fin creadas\n",
      "   ✅ Presupuesto Mensual creada\n",
      "   ✅ Duración (categoría) creada\n",
      "   ✅ Presupuesto (categoría) creada\n",
      "\n",
      "📊 Variables derivadas creadas: 5\n",
      "📊 Total de variables en el dataset: 27\n",
      "\n",
      "🔍 VISTA PREVIA DE VARIABLES DERIVADAS:\n"
     ]
    },
    {
     "data": {
      "application/vnd.microsoft.datawrangler.viewer.v0+json": {
       "columns": [
        {
         "name": "index",
         "rawType": "int64",
         "type": "integer"
        },
        {
         "name": "Ref.CSIC",
         "rawType": "object",
         "type": "string"
        },
        {
         "name": "Título",
         "rawType": "object",
         "type": "string"
        },
        {
         "name": "Año Inicio",
         "rawType": "object",
         "type": "string"
        },
        {
         "name": "Año Fin",
         "rawType": "object",
         "type": "string"
        },
        {
         "name": "Presupuesto Mensual",
         "rawType": "Float64",
         "type": "float"
        },
        {
         "name": "Duración (categoría)",
         "rawType": "category",
         "type": "unknown"
        },
        {
         "name": "Presupuesto (categoría)",
         "rawType": "category",
         "type": "unknown"
        }
       ],
       "ref": "16faaa1d-6f67-4a0e-a23d-b88aecc02a7b",
       "rows": [
        [
         "0",
         "EUROHPC/1238",
         "Europe-India Partnership for Scientific High-Performance Computing",
         "2025",
         "2028",
         "8407.99",
         "Medio",
         "Mediano"
        ],
        [
         "1",
         "HE/CBE/0653",
         "Bio-based in Soil applications with Optimal biodegradation in their Ultimate Life - The SOUL project",
         "2025",
         "2029",
         "5704.95",
         "Largo",
         "Mediano"
        ],
        [
         "3",
         "HE/CLEANH2/0431",
         "A novel multi-stage steam gasification and syngas purification demonstration plant for waste to hydrogen conversion",
         "2024",
         "2027",
         "4584.32",
         "Largo",
         "Mediano"
        ],
        [
         "4",
         "HE/CLEANH2/0571",
         "Carbon-negative pressurized hydrogen production from waste using an energy efficient protonic membrane reformer_x000d__x000d_ CARMA-H2",
         "2024",
         "2028",
         "4669.92",
         "Largo",
         "Mediano"
        ],
        [
         "5",
         "HE/CLEANH2/0576",
         "DIAGNOSTIC TOOLS AND RISK PROTOCOLS TO ACCELERATE UNDERGROUND HYDROGEN STORAGE",
         "2025",
         "2028",
         "9483.55",
         "Largo",
         "Mediano"
        ]
       ],
       "shape": {
        "columns": 7,
        "rows": 5
       }
      },
      "text/html": [
       "<div>\n",
       "<style scoped>\n",
       "    .dataframe tbody tr th:only-of-type {\n",
       "        vertical-align: middle;\n",
       "    }\n",
       "\n",
       "    .dataframe tbody tr th {\n",
       "        vertical-align: top;\n",
       "    }\n",
       "\n",
       "    .dataframe thead th {\n",
       "        text-align: right;\n",
       "    }\n",
       "</style>\n",
       "<table border=\"1\" class=\"dataframe\">\n",
       "  <thead>\n",
       "    <tr style=\"text-align: right;\">\n",
       "      <th></th>\n",
       "      <th>Ref.CSIC</th>\n",
       "      <th>Título</th>\n",
       "      <th>Año Inicio</th>\n",
       "      <th>Año Fin</th>\n",
       "      <th>Presupuesto Mensual</th>\n",
       "      <th>Duración (categoría)</th>\n",
       "      <th>Presupuesto (categoría)</th>\n",
       "    </tr>\n",
       "  </thead>\n",
       "  <tbody>\n",
       "    <tr>\n",
       "      <th>0</th>\n",
       "      <td>EUROHPC/1238</td>\n",
       "      <td>Europe-India Partnership for Scientific High-P...</td>\n",
       "      <td>2025</td>\n",
       "      <td>2028</td>\n",
       "      <td>8407.99</td>\n",
       "      <td>Medio</td>\n",
       "      <td>Mediano</td>\n",
       "    </tr>\n",
       "    <tr>\n",
       "      <th>1</th>\n",
       "      <td>HE/CBE/0653</td>\n",
       "      <td>Bio-based in Soil applications with Optimal bi...</td>\n",
       "      <td>2025</td>\n",
       "      <td>2029</td>\n",
       "      <td>5704.95</td>\n",
       "      <td>Largo</td>\n",
       "      <td>Mediano</td>\n",
       "    </tr>\n",
       "    <tr>\n",
       "      <th>3</th>\n",
       "      <td>HE/CLEANH2/0431</td>\n",
       "      <td>A novel multi-stage steam gasification and syn...</td>\n",
       "      <td>2024</td>\n",
       "      <td>2027</td>\n",
       "      <td>4584.32</td>\n",
       "      <td>Largo</td>\n",
       "      <td>Mediano</td>\n",
       "    </tr>\n",
       "    <tr>\n",
       "      <th>4</th>\n",
       "      <td>HE/CLEANH2/0571</td>\n",
       "      <td>Carbon-negative pressurized hydrogen productio...</td>\n",
       "      <td>2024</td>\n",
       "      <td>2028</td>\n",
       "      <td>4669.92</td>\n",
       "      <td>Largo</td>\n",
       "      <td>Mediano</td>\n",
       "    </tr>\n",
       "    <tr>\n",
       "      <th>5</th>\n",
       "      <td>HE/CLEANH2/0576</td>\n",
       "      <td>DIAGNOSTIC TOOLS AND RISK PROTOCOLS TO ACCELER...</td>\n",
       "      <td>2025</td>\n",
       "      <td>2028</td>\n",
       "      <td>9483.55</td>\n",
       "      <td>Largo</td>\n",
       "      <td>Mediano</td>\n",
       "    </tr>\n",
       "  </tbody>\n",
       "</table>\n",
       "</div>"
      ],
      "text/plain": [
       "          Ref.CSIC                                             Título  \\\n",
       "0     EUROHPC/1238  Europe-India Partnership for Scientific High-P...   \n",
       "1      HE/CBE/0653  Bio-based in Soil applications with Optimal bi...   \n",
       "3  HE/CLEANH2/0431  A novel multi-stage steam gasification and syn...   \n",
       "4  HE/CLEANH2/0571  Carbon-negative pressurized hydrogen productio...   \n",
       "5  HE/CLEANH2/0576  DIAGNOSTIC TOOLS AND RISK PROTOCOLS TO ACCELER...   \n",
       "\n",
       "  Año Inicio Año Fin  Presupuesto Mensual Duración (categoría)  \\\n",
       "0       2025    2028              8407.99                Medio   \n",
       "1       2025    2029              5704.95                Largo   \n",
       "3       2024    2027              4584.32                Largo   \n",
       "4       2024    2028              4669.92                Largo   \n",
       "5       2025    2028              9483.55                Largo   \n",
       "\n",
       "  Presupuesto (categoría)  \n",
       "0                 Mediano  \n",
       "1                 Mediano  \n",
       "3                 Mediano  \n",
       "4                 Mediano  \n",
       "5                 Mediano  "
      ]
     },
     "metadata": {},
     "output_type": "display_data"
    }
   ],
   "source": [
    "# Crear variables derivadas\n",
    "print(\"🔧 CREACIÓN DE VARIABLES DERIVADAS:\")\n",
    "print(\"=\" * 50)\n",
    "\n",
    "# 1. Año Inicio y Año Fin (convertir a int primero para eliminar decimales, luego a string)\n",
    "df['Año Inicio'] = df['Comienzo'].dt.year.astype('Int64').astype(str)\n",
    "df['Año Fin'] = df['Final'].dt.year.astype('Int64').astype(str)\n",
    "print(\"   ✅ Año Inicio y Año Fin creadas\")\n",
    "\n",
    "# 2. Presupuesto Mensual\n",
    "df['Presupuesto Mensual'] = df['Importe Concedido'] / df['Duración (meses)']\n",
    "df['Presupuesto Mensual'] = df['Presupuesto Mensual'].round(2)\n",
    "print(\"   ✅ Presupuesto Mensual creada\")\n",
    "\n",
    "# 3. Duración (categoría)\n",
    "df['Duración (categoría)'] = pd.cut(df['Duración (meses)'], \n",
    "                                   bins=[0, 12, 36, float('inf')], \n",
    "                                   labels=['Corto', 'Medio', 'Largo'])\n",
    "print(\"   ✅ Duración (categoría) creada\")\n",
    "\n",
    "# 4. Presupuesto (categoría)\n",
    "df['Presupuesto (categoría)'] = pd.cut(df['Importe Concedido'],\n",
    "                                      bins=[0, 150000, 500000, float('inf')],\n",
    "                                      labels=['Pequeño', 'Mediano', 'Grande'])\n",
    "print(\"   ✅ Presupuesto (categoría) creada\")\n",
    "\n",
    "print(f\"\\n📊 Variables derivadas creadas: 5\")\n",
    "print(f\"📊 Total de variables en el dataset: {df.shape[1]}\")\n",
    "\n",
    "# Vista previa de las nuevas variables\n",
    "print(f\"\\n🔍 VISTA PREVIA DE VARIABLES DERIVADAS:\")\n",
    "display(df[['Ref.CSIC', 'Título', 'Año Inicio', 'Año Fin', 'Presupuesto Mensual', \n",
    "           'Duración (categoría)', 'Presupuesto (categoría)']].head())"
   ]
  },
  {
   "cell_type": "markdown",
   "id": "5ef6bd14",
   "metadata": {},
   "source": [
    "## 10. Resumen Final del Preprocesado"
   ]
  },
  {
   "cell_type": "code",
   "execution_count": 33,
   "id": "f4083aab",
   "metadata": {},
   "outputs": [
    {
     "name": "stdout",
     "output_type": "stream",
     "text": [
      "📊 RESUMEN FINAL DEL PREPROCESADO DE DATOS\n",
      "============================================================\n",
      "🔢 INFORMACIÓN GENERAL:\n",
      "   Total de proyectos: 694\n",
      "   Total de variables: 27\n",
      "   Duplicados eliminados: 1\n",
      "   Nulos en Ref.CSIC eliminados: 24\n",
      "\n",
      "📅 RANGO TEMPORAL:\n",
      "   Año inicio: 2021 - 2026\n",
      "   Año finalización: 2022 - 2034\n",
      "\n",
      "💰 INFORMACIÓN PRESUPUESTARIA:\n",
      "   Presupuesto total: 336,424,615.07 €\n",
      "   Presupuesto medio por proyecto: 484,761.69 €\n",
      "\n",
      "🔬 DISTRIBUCIÓN POR ÁREA CIENTÍFICA:\n",
      "   VIDA: 314 proyectos (45.2%)\n",
      "   MATERIA: 244 proyectos (35.2%)\n",
      "   DESCONOCIDO: 98 proyectos (14.1%)\n",
      "   SOCIEDAD: 36 proyectos (5.2%)\n",
      "   CENTRAL: 2 proyectos (0.3%)\n",
      "\n",
      "🔧 TRANSFORMACIONES REALIZADAS:\n",
      "   ✅ Variables renombradas: 4\n",
      "   ✅ Nombres de centros normalizados: 0 registros\n",
      "   ✅ Variables derivadas creadas: 5\n",
      "   ✅ Conversión de tipos de datos: completada\n",
      "   ✅ Limpieza de texto: 14 columnas\n",
      "\n",
      "✅ Dataset preprocesado listo para análisis\n"
     ]
    }
   ],
   "source": [
    "# Resumen final del preprocesado de datos\n",
    "print(\"📊 RESUMEN FINAL DEL PREPROCESADO DE DATOS\")\n",
    "print(\"=\" * 60)\n",
    "\n",
    "# Información básica del dataset\n",
    "print(f\"🔢 INFORMACIÓN GENERAL:\")\n",
    "print(f\"   Total de proyectos: {len(df):,}\")\n",
    "print(f\"   Total de variables: {df.shape[1]}\")\n",
    "print(f\"   Duplicados eliminados: {duplicados_eliminados}\")\n",
    "print(f\"   Nulos en Ref.CSIC eliminados: {nulos_eliminados}\")\n",
    "\n",
    "# Rango temporal (Año Inicio y Año Fin ya son strings, convertir a int para cálculos)\n",
    "años_inicio = df['Año Inicio'].dropna().replace('<NA>', pd.NA).dropna().astype(int)\n",
    "años_fin = df['Año Fin'].dropna().replace('<NA>', pd.NA).dropna().astype(int)\n",
    "print(f\"\\n📅 RANGO TEMPORAL:\")\n",
    "print(f\"   Año inicio: {años_inicio.min()} - {años_inicio.max()}\")\n",
    "print(f\"   Año finalización: {años_fin.min()} - {años_fin.max()}\")\n",
    "\n",
    "# Información presupuestaria\n",
    "presupuesto_total = df['Importe Concedido'].sum()\n",
    "presupuesto_medio = df['Importe Concedido'].mean()\n",
    "print(f\"\\n💰 INFORMACIÓN PRESUPUESTARIA:\")\n",
    "print(f\"   Presupuesto total: {presupuesto_total:,.2f} €\")\n",
    "print(f\"   Presupuesto medio por proyecto: {presupuesto_medio:,.2f} €\")\n",
    "\n",
    "# Distribución por área científica\n",
    "print(f\"\\n🔬 DISTRIBUCIÓN POR ÁREA CIENTÍFICA:\")\n",
    "for area, count in df['Area'].value_counts().items():\n",
    "    porcentaje = (count / len(df)) * 100\n",
    "    print(f\"   {area}: {count} proyectos ({porcentaje:.1f}%)\")\n",
    "\n",
    "# Variables creadas/transformadas\n",
    "print(f\"\\n🔧 TRANSFORMACIONES REALIZADAS:\")\n",
    "print(f\"   ✅ Variables renombradas: {len(renombres)}\")\n",
    "print(f\"   ✅ Nombres de centros normalizados: {cambios} registros\")\n",
    "print(f\"   ✅ Variables derivadas creadas: 5\")\n",
    "print(f\"   ✅ Conversión de tipos de datos: completada\")\n",
    "print(f\"   ✅ Limpieza de texto: {len(text_columns)} columnas\")\n",
    "\n",
    "print(f\"\\n✅ Dataset preprocesado listo para análisis\")"
   ]
  },
  {
   "cell_type": "markdown",
   "id": "187ff201",
   "metadata": {},
   "source": [
    "## 11. Exportación de Datos Limpios"
   ]
  },
  {
   "cell_type": "code",
   "execution_count": 34,
   "id": "2ee2f65a",
   "metadata": {},
   "outputs": [
    {
     "name": "stdout",
     "output_type": "stream",
     "text": [
      "✅ Datos exportados exitosamente:\n",
      "   📁 ../data/9PM_bootcamp_clean.csv\n",
      "   📁 ../data/9PM_bootcamp_clean.xlsx\n",
      "\n",
      "📊 Total de proyectos exportados: 694\n"
     ]
    }
   ],
   "source": [
    "# Guardar dataset preprocesado\n",
    "df.to_csv('../data/9PM_bootcamp_clean.csv', index=False, encoding='utf-8')\n",
    "df.to_excel('../data/9PM_bootcamp_clean.xlsx', index=False)\n",
    "\n",
    "print(\"✅ Datos exportados exitosamente:\")\n",
    "print(\"   📁 ../data/9PM_bootcamp_clean.csv\")\n",
    "print(\"   📁 ../data/9PM_bootcamp_clean.xlsx\")\n",
    "print(f\"\\n📊 Total de proyectos exportados: {len(df):,}\")"
   ]
  }
 ],
 "metadata": {
  "kernelspec": {
   "display_name": "Python (venv-horizonte)",
   "language": "python",
   "name": "venv-horizonte"
  },
  "language_info": {
   "codemirror_mode": {
    "name": "ipython",
    "version": 3
   },
   "file_extension": ".py",
   "mimetype": "text/x-python",
   "name": "python",
   "nbconvert_exporter": "python",
   "pygments_lexer": "ipython3",
   "version": "3.12.1"
  }
 },
 "nbformat": 4,
 "nbformat_minor": 5
}
