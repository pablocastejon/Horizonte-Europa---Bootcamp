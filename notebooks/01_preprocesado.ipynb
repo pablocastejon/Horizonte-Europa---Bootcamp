{
 "cells": [
  {
   "cell_type": "markdown",
   "id": "1f2ebc4d",
   "metadata": {},
   "source": [
    "# 📊 Preprocesado de Datos - Proyectos Horizonte Europa\n",
    "\n",
    "Este notebook tiene como función la limpieza y preparación de datos administrativos de proyectos europeos del Programa Marco, 9ª Edición (Horizonte Europa).\n",
    "\n",
    "## Consideraciones Especiales:\n",
    "- **Datos administrativos**: El dataset no contiene datos experimentales; no se eliminarán los nulos salvo casos muy incompletos.\n",
    "- **Duplicados**: La variable `Ref.CSIC` se usará como clave primaria. Cualquier duplicado para esta variable será eliminado.\n",
    "- **Variables string**: Muchas columnas numéricas son en realidad etiquetas (ej: `Ref.UE`, `Centro`). NO deben usarse para análisis estadisticos multivariable.\n",
    "- **Normalización**: `Nombre centro IP` contiene etiquetas distintas para el mismo centro; debe normalizarse usando `Centro` como referencia.\n",
    "\n",
    "## Contenido:\n",
    "1. Carga y exploración inicial\n",
    "2. Identificación de tipos de variables\n",
    "3. Limpieza de duplicados (Ref.CSIC)\n",
    "4. Normalización de nombres de centros\n",
    "5. Conversión de tipos de datos\n",
    "6. Procesamiento de fechas\n",
    "7. Análisis de valores nulos (sin eliminar)\n",
    "8. Exportación de datos limpios"
   ]
  },
  {
   "cell_type": "code",
   "execution_count": 28,
   "id": "9919d20c",
   "metadata": {},
   "outputs": [
    {
     "name": "stdout",
     "output_type": "stream",
     "text": [
      "✅ Librerías importadas correctamente\n"
     ]
    }
   ],
   "source": [
    "# Importar librerías necesarias\n",
    "import pandas as pd\n",
    "import numpy as np\n",
    "import warnings\n",
    "warnings.filterwarnings('ignore')\n",
    "\n",
    "print(\"✅ Librerías importadas correctamente\")"
   ]
  },
  {
   "cell_type": "markdown",
   "id": "9894e16b",
   "metadata": {},
   "source": [
    "## 1. Carga de Datos"
   ]
  },
  {
   "cell_type": "code",
   "execution_count": 29,
   "id": "b3385c3d",
   "metadata": {},
   "outputs": [
    {
     "name": "stdout",
     "output_type": "stream",
     "text": [
      "📁 Datos cargados: 719 filas (proyectos) y 20 columnas\n",
      "\n",
      "📋 Columnas encontradas:\n",
      "   1. Ref.CSIC\n",
      "   2. Ref.UE\n",
      "   3. Situación\n",
      "   4. Programa\n",
      "   5. Acción clave\n",
      "   6. Título\n",
      "   7. Comienzo\n",
      "   8. Final\n",
      "   9. Duración (meses)\n",
      "  10. Concedido\n",
      "  11. CSIC\n",
      "  12. España (no CSIC)\n",
      "  13. Total (Csic, Esp. y otros)\n",
      "  14. Cód.área\n",
      "  15. Acrónimo del proyecto\n",
      "  16. Convocatoria\n",
      "  17. Centro\n",
      "  18. Nombre Centro IP\n",
      "  19. Resumen\n",
      "  20. Keywords\n"
     ]
    }
   ],
   "source": [
    "#carga de datos desde hoja excel\n",
    "df = pd.read_excel(\n",
    "    '../data/9PM_bootcamp1.xlsx',\n",
    "    dtype={'Centro': str, 'Ref.UE': str}\n",
    ")\n",
    "\n",
    "print(f\"📁 Datos cargados: {df.shape[0]} filas (proyectos) y {df.shape[1]} columnas\")\n",
    "print(f\"\\n📋 Columnas encontradas:\")\n",
    "for i, col in enumerate(df.columns, 1):\n",
    "    print(f\"  {i:2d}. {col}\")\n",
    "\n"
   ]
  },
  {
   "cell_type": "markdown",
   "id": "e72f7758",
   "metadata": {},
   "source": [
    "# 2. Renombrar variables ambiguas\n",
    "\n",
    "Se renombrarán las siguientes variables, actualmente con nombres ambiguos, para mayor claridad:\n",
    "\n",
    "| **Variable Original** | **Nuevo Nombre** |\n",
    "|----------------------|------------------|\n",
    "| `Concedido` | `Importe Concedido` |\n",
    "| `CSIC` | `Participantes CSIC` |\n",
    "| `España (no CSIC)` | `Participantes España (no CSIC)` |\n",
    "| `Total (Csic, Esp. y otros)` | `Total Participantes` |\n",
    "\n",
    "\n",
    "\n"
   ]
  },
  {
   "cell_type": "code",
   "execution_count": 30,
   "id": "b3048a90",
   "metadata": {},
   "outputs": [
    {
     "name": "stdout",
     "output_type": "stream",
     "text": [
      "Nombres de variables actualizadas:\n",
      "   ✅ 'Concedido' → 'Importe Concedido'\n",
      "   ✅ 'CSIC' → 'Participantes CSIC'\n",
      "   ✅ 'España (no CSIC)' → 'Participantes España (no CSIC)'\n",
      "   ✅ 'Total (Csic, Esp. y otros)' → 'Total Participantes'\n",
      "\n",
      "📋 VARIABLES RENOMBRADAS DISPONIBLES:\n",
      "   ✓ Importe Concedido\n",
      "   ✓ Participantes CSIC\n",
      "   ✓ Participantes España (no CSIC)\n",
      "   ✓ Total Participantes\n"
     ]
    }
   ],
   "source": [
    "\n",
    "renombres = {\n",
    "    'Concedido': 'Importe Concedido',\n",
    "    'CSIC': 'Participantes CSIC',\n",
    "    'España (no CSIC)': 'Participantes España (no CSIC)',\n",
    "    'Total (Csic, Esp. y otros)': 'Total Participantes'\n",
    "}\n",
    "\n",
    "# Aplicar renombres\n",
    "df = df.rename(columns=renombres)\n",
    "\n",
    "print (\"Nombres de variables actualizadas:\")\n",
    "# Mostrar confirmación de cambios\n",
    "for original, nuevo in renombres.items():\n",
    "    if original in df.columns or nuevo in df.columns:\n",
    "        print(f\"   ✅ '{original}' → '{nuevo}'\")\n",
    "\n",
    "\n",
    "# Verificar nuevos nombres\n",
    "print(\"\\n📋 VARIABLES RENOMBRADAS DISPONIBLES:\")\n",
    "for nuevo_nombre in renombres.values():\n",
    "    if nuevo_nombre in df.columns:\n",
    "        print(f\"   ✓ {nuevo_nombre}\")"
   ]
  },
  {
   "cell_type": "markdown",
   "id": "9f8af818",
   "metadata": {},
   "source": [
    "## 3. Clasificación de Variables\n",
    "\n",
    "El dataset contiene variables de distinto tipo: identificadores, variables categóricas, descriptivas... y solo algunas numéricas. Es necesario clasificarlas correctamente y tener en cuenta esta clasificación para su análisis.\n"
   ]
  },
  {
   "cell_type": "code",
   "execution_count": 31,
   "id": "c1f68fca",
   "metadata": {},
   "outputs": [
    {
     "name": "stdout",
     "output_type": "stream",
     "text": [
      "📊 CLASIFICACIÓN DE VARIABLES SEGÚN TIPO:\n",
      "================================================================================\n",
      "\n",
      "🔹 IDENTIFICADORES:\n",
      "   ✓ Ref.CSIC\n",
      "   ✓ Ref.UE\n",
      "   ✓ Acrónimo del proyecto\n",
      "\n",
      "🔹 CATEGORICAS:\n",
      "   ✓ Situación\n",
      "   ✓ Programa\n",
      "   ✓ Acción clave\n",
      "   ✓ Convocatoria\n",
      "   ✓ Cód.área\n",
      "   ✓ Centro\n",
      "   ✓ Nombre Centro IP\n",
      "\n",
      "🔹 DESCRIPTIVAS:\n",
      "   ✓ Título\n",
      "   ✓ Resumen\n",
      "   ✓ Keywords\n",
      "\n",
      "🔹 NUMERICAS:\n",
      "   ✓ Importe Concedido\n",
      "   ✓ Duración (meses)\n",
      "   ✓ Participantes CSIC\n",
      "   ✓ Participantes España (no CSIC)\n",
      "   ✓ Total Participantes\n",
      "\n",
      "🔹 TEMPORALES:\n",
      "   ✓ Comienzo\n",
      "   ✓ Final\n"
     ]
    }
   ],
   "source": [
    "# Definir clasificación de variables según su función REAL en datos administrativos\n",
    "variables_config = {\n",
    "    'identificadores': ['Ref.CSIC', 'Ref.UE', 'Acrónimo del proyecto'],  # Códigos únicos\n",
    "    'categoricas': ['Situación', 'Programa', 'Acción clave', 'Convocatoria', 'Cód.área','Centro', 'Nombre Centro IP'],  # Variables categóricas\n",
    "    'descriptivas': ['Título', 'Resumen', 'Keywords'],  # Texto libre para búsqueda\n",
    "    'numericas': ['Importe Concedido','Duración (meses)',  'Participantes CSIC', 'Participantes España (no CSIC)', 'Total Participantes'], \n",
    "    'temporales': ['Comienzo', 'Final'],  # Fechas\n",
    "}\n",
    "\n",
    "print(\"📊 CLASIFICACIÓN DE VARIABLES SEGÚN TIPO:\")\n",
    "print(\"=\" * 80)\n",
    "for tipo, cols in variables_config.items():\n",
    "    print(f\"\\n🔹 {tipo.upper()}:\")\n",
    "    for col in cols:\n",
    "        if col in df.columns:\n",
    "            print(f\"   ✓ {col}\")\n",
    "        else:\n",
    "            print(f\"   ✗ {col} (no encontrada)\")\n",
    "\n",
    "# Verificar si hay columnas no clasificadas\n",
    "columnas_no_clasificadas = set(df.columns) - {col for cols in variables_config.values() for col in cols}\n",
    "if columnas_no_clasificadas:\n",
    "    print(f\"\\n⚠️ COLUMNAS NO CLASIFICADAS:\")\n",
    "    for col in columnas_no_clasificadas:\n",
    "        print(f\"   ? {col}\")"
   ]
  },
  {
   "cell_type": "markdown",
   "id": "28a16e83",
   "metadata": {},
   "source": [
    "Veamos el Data type de cada variable:"
   ]
  },
  {
   "cell_type": "code",
   "execution_count": 32,
   "id": "8548eb1e",
   "metadata": {},
   "outputs": [
    {
     "name": "stdout",
     "output_type": "stream",
     "text": [
      "📋 INFORMACIÓN DEL DATASET:\n",
      "======================================================================\n",
      "<class 'pandas.core.frame.DataFrame'>\n",
      "RangeIndex: 719 entries, 0 to 718\n",
      "Data columns (total 20 columns):\n",
      " #   Column                          Non-Null Count  Dtype  \n",
      "---  ------                          --------------  -----  \n",
      " 0   Ref.CSIC                        695 non-null    object \n",
      " 1   Ref.UE                          694 non-null    object \n",
      " 2   Situación                       695 non-null    object \n",
      " 3   Programa                        692 non-null    object \n",
      " 4   Acción clave                    692 non-null    object \n",
      " 5   Título                          695 non-null    object \n",
      " 6   Comienzo                        691 non-null    object \n",
      " 7   Final                           691 non-null    object \n",
      " 8   Duración (meses)                690 non-null    float64\n",
      " 9   Importe Concedido               695 non-null    float64\n",
      " 10  Participantes CSIC              693 non-null    float64\n",
      " 11  Participantes España (no CSIC)  693 non-null    float64\n",
      " 12  Total Participantes             693 non-null    float64\n",
      " 13  Cód.área                        695 non-null    float64\n",
      " 14  Acrónimo del proyecto           695 non-null    object \n",
      " 15  Convocatoria                    695 non-null    object \n",
      " 16  Centro                          695 non-null    object \n",
      " 17  Nombre Centro IP                695 non-null    object \n",
      " 18  Resumen                         616 non-null    object \n",
      " 19  Keywords                        257 non-null    object \n",
      "dtypes: float64(6), object(14)\n",
      "memory usage: 112.5+ KB\n"
     ]
    }
   ],
   "source": [
    "# Información detallada del dataset\n",
    "print(\"📋 INFORMACIÓN DEL DATASET:\")\n",
    "print(\"=\" * 70)\n",
    "df.info()"
   ]
  },
  {
   "cell_type": "markdown",
   "id": "55cf671b",
   "metadata": {},
   "source": [
    "\n",
    "Para evitar errores, es preferible modificar el tipo de dato para las variables numéricas.\n",
    "\n",
    "| **Variable** | **Tipo Actual** | **Tipo Objetivo** |\n",
    "|-------------|----------------|-------------------|\n",
    "| `Duración (meses)` | `float64` | `int64` |\n",
    "| `Importe Concedido` | `float64` | `float64` (Se mantiene igual)|\n",
    "| `Participantes CSIC` | `float64` | `int64` |\n",
    "| `Participantes España (no CSIC)` | `float64` | `int64` |\n",
    "| `Total Participantes` | `float64` | `int64` |\n",
    "| `Cód.área` | `float64` | `object` Código identificador, no es variable numérica|\n",
    "\n",
    "\n",
    "\n",
    "> **⚠️ Nota importante**: Aunque `Centro` y `Cód.área` contengan números, representan códigos identificadores y deben tratarse como texto para evitar operaciones matemáticas incorrectas.\n"
   ]
  },
  {
   "cell_type": "code",
   "execution_count": 33,
   "id": "5add53ed",
   "metadata": {},
   "outputs": [
    {
     "name": "stdout",
     "output_type": "stream",
     "text": [
      "   ✅ Duración (meses) → int64\n",
      "   ✅ Participantes CSIC → int64\n",
      "   ✅ Participantes España (no CSIC) → int64\n",
      "   ✅ Total Participantes → int64\n",
      "   ✅ Cód.área → int64 → object (código identificador)\n",
      "   ✅ Importe Concedido → float64 (se mantiene)\n",
      "\n",
      "📊 Verificación de tipos de datos:\n",
      "   Duración (meses): Int64\n",
      "   Importe Concedido: float64\n",
      "   Participantes CSIC: Int64\n",
      "   Participantes España (no CSIC): Int64\n",
      "   Total Participantes: Int64\n",
      "   Centro: object\n",
      "   Cód.área: object\n"
     ]
    }
   ],
   "source": [
    "\n",
    "# 1. Variables enteras (sin decimales)\n",
    "variables_enteras = ['Duración (meses)', 'Participantes CSIC', 'Participantes España (no CSIC)', 'Total Participantes']\n",
    "\n",
    "for var in variables_enteras:\n",
    "    if var in df.columns:\n",
    "        df[var] = df[var].astype('Int64')  # Int64 permite valores nulos\n",
    "        print(f\"   ✅ {var} → int64\")\n",
    "\n",
    "# 2. Variables que son códigos identificadores (Cód.área)\n",
    "\n",
    "if 'Cód.área' in df.columns:\n",
    "    df['Cód.área'] = pd.to_numeric(df['Cód.área'], errors='coerce').astype('Int64')\n",
    "    df['Cód.área'] = df['Cód.área'].astype(str).replace('<NA>', pd.NA)\n",
    "    print(f\"   ✅ Cód.área → int64 → object (código identificador)\")\n",
    "\n",
    "# 3. Importe Concedido se mantiene como float64\n",
    "print(f\"   ✅ Importe Concedido → float64 (se mantiene)\")\n",
    "\n",
    "print(\"\\n📊 Verificación de tipos de datos:\")\n",
    "tipos_relevantes = ['Duración (meses)', 'Importe Concedido', 'Participantes CSIC', \n",
    "                   'Participantes España (no CSIC)', 'Total Participantes', 'Centro', 'Cód.área']\n",
    "\n",
    "for var in tipos_relevantes:\n",
    "    if var in df.columns:\n",
    "        print(f\"   {var}: {df[var].dtype}\")\n"
   ]
  },
  {
   "cell_type": "markdown",
   "id": "2afdab15",
   "metadata": {},
   "source": [
    "Ahora veamos si los cambios se han aplicado correctamente:"
   ]
  },
  {
   "cell_type": "code",
   "execution_count": 34,
   "id": "8010b83e",
   "metadata": {},
   "outputs": [
    {
     "name": "stdout",
     "output_type": "stream",
     "text": [
      "🔍 PRIMERAS FILAS DEL DATASET:\n",
      "======================================================================\n"
     ]
    },
    {
     "data": {
      "text/html": [
       "<div>\n",
       "<style scoped>\n",
       "    .dataframe tbody tr th:only-of-type {\n",
       "        vertical-align: middle;\n",
       "    }\n",
       "\n",
       "    .dataframe tbody tr th {\n",
       "        vertical-align: top;\n",
       "    }\n",
       "\n",
       "    .dataframe thead th {\n",
       "        text-align: right;\n",
       "    }\n",
       "</style>\n",
       "<table border=\"1\" class=\"dataframe\">\n",
       "  <thead>\n",
       "    <tr style=\"text-align: right;\">\n",
       "      <th></th>\n",
       "      <th>Ref.CSIC</th>\n",
       "      <th>Ref.UE</th>\n",
       "      <th>Situación</th>\n",
       "      <th>Programa</th>\n",
       "      <th>Acción clave</th>\n",
       "      <th>Título</th>\n",
       "      <th>Comienzo</th>\n",
       "      <th>Final</th>\n",
       "      <th>Duración (meses)</th>\n",
       "      <th>Importe Concedido</th>\n",
       "      <th>Participantes CSIC</th>\n",
       "      <th>Participantes España (no CSIC)</th>\n",
       "      <th>Total Participantes</th>\n",
       "      <th>Cód.área</th>\n",
       "      <th>Acrónimo del proyecto</th>\n",
       "      <th>Convocatoria</th>\n",
       "      <th>Centro</th>\n",
       "      <th>Nombre Centro IP</th>\n",
       "      <th>Resumen</th>\n",
       "      <th>Keywords</th>\n",
       "    </tr>\n",
       "  </thead>\n",
       "  <tbody>\n",
       "    <tr>\n",
       "      <th>0</th>\n",
       "      <td>EUROHPC/1238</td>\n",
       "      <td>101196247</td>\n",
       "      <td>VIGENTE</td>\n",
       "      <td>JOINT UNDERTAKING</td>\n",
       "      <td>JOINT UNDERTAKING</td>\n",
       "      <td>Europe-India Partnership for Scientific High-P...</td>\n",
       "      <td>01/02/2025</td>\n",
       "      <td>31/01/2028</td>\n",
       "      <td>36</td>\n",
       "      <td>302687.50</td>\n",
       "      <td>1</td>\n",
       "      <td>2</td>\n",
       "      <td>10</td>\n",
       "      <td>8903</td>\n",
       "      <td>GANANA</td>\n",
       "      <td>HORIZON-EUROHPC-JU-2023-INCO-06-01</td>\n",
       "      <td>030102</td>\n",
       "      <td>GEOCIENCIAS BARCELONA</td>\n",
       "      <td>HIGH-PERFORMANCE COMPUTING (HPC) IS A MAJOR EN...</td>\n",
       "      <td>NaN</td>\n",
       "    </tr>\n",
       "    <tr>\n",
       "      <th>1</th>\n",
       "      <td>HE/CBE/0653</td>\n",
       "      <td>101214822</td>\n",
       "      <td>VIGENTE</td>\n",
       "      <td>JOINT UNDERTAKING</td>\n",
       "      <td>JOINT UNDERTAKING</td>\n",
       "      <td>Bio-based in Soil applications with Optimal bi...</td>\n",
       "      <td>01/09/2025</td>\n",
       "      <td>31/08/2029</td>\n",
       "      <td>48</td>\n",
       "      <td>273837.50</td>\n",
       "      <td>1</td>\n",
       "      <td>6</td>\n",
       "      <td>16</td>\n",
       "      <td>8908</td>\n",
       "      <td>SOUL</td>\n",
       "      <td>HORIZON-JU-CBE-2024</td>\n",
       "      <td>020401</td>\n",
       "      <td>INSTO. CATALISIS Y PETROLEOQUIMICA</td>\n",
       "      <td>THE USE OF PLASTIC PRODUCTS HAS INCREASED SIGN...</td>\n",
       "      <td>IMPROVED CONTROLLED BIODEGRADABILIY; IMPROVED ...</td>\n",
       "    </tr>\n",
       "    <tr>\n",
       "      <th>2</th>\n",
       "      <td>HE/CBE/0653</td>\n",
       "      <td>101214822</td>\n",
       "      <td>VIGENTE</td>\n",
       "      <td>JOINT UNDERTAKING</td>\n",
       "      <td>JOINT UNDERTAKING</td>\n",
       "      <td>Bio-based in Soil applications with Optimal bi...</td>\n",
       "      <td>01/09/2025</td>\n",
       "      <td>31/08/2029</td>\n",
       "      <td>48</td>\n",
       "      <td>273837.50</td>\n",
       "      <td>1</td>\n",
       "      <td>6</td>\n",
       "      <td>16</td>\n",
       "      <td>8908</td>\n",
       "      <td>SOUL</td>\n",
       "      <td>HORIZON-JU-CBE-2024</td>\n",
       "      <td>020401</td>\n",
       "      <td>INSTO. CATALISIS Y PETROLEOQUIMICA</td>\n",
       "      <td>THE USE OF PLASTIC PRODUCTS HAS INCREASED SIGN...</td>\n",
       "      <td>IMPROVED CONTROLLED BIODEGRADABILIY; IMPROVED ...</td>\n",
       "    </tr>\n",
       "    <tr>\n",
       "      <th>3</th>\n",
       "      <td>HE/CLEANH2/0431</td>\n",
       "      <td>101137792</td>\n",
       "      <td>VIGENTE</td>\n",
       "      <td>JTI-CLEANH2</td>\n",
       "      <td>JTI-CLEANH2</td>\n",
       "      <td>A novel multi-stage steam gasification and syn...</td>\n",
       "      <td>01/01/2024</td>\n",
       "      <td>31/12/2027</td>\n",
       "      <td>48</td>\n",
       "      <td>220047.50</td>\n",
       "      <td>1</td>\n",
       "      <td>10</td>\n",
       "      <td>16</td>\n",
       "      <td>8908</td>\n",
       "      <td>HYIELD</td>\n",
       "      <td>HORIZON-JTI-CLEANH2-2023-1</td>\n",
       "      <td>020403</td>\n",
       "      <td>INSTO. CARBOQUIMICA</td>\n",
       "      <td>EUROPE FACES THE JOINT CHALLENGE OF DECARBONIS...</td>\n",
       "      <td>NaN</td>\n",
       "    </tr>\n",
       "    <tr>\n",
       "      <th>4</th>\n",
       "      <td>HE/CLEANH2/0571</td>\n",
       "      <td>101137756</td>\n",
       "      <td>VIGENTE</td>\n",
       "      <td>JTI-CLEANH2</td>\n",
       "      <td>JTI-CLEANH2</td>\n",
       "      <td>Carbon-negative pressurized hydrogen productio...</td>\n",
       "      <td>01/10/2024</td>\n",
       "      <td>30/09/2028</td>\n",
       "      <td>48</td>\n",
       "      <td>224156.25</td>\n",
       "      <td>0</td>\n",
       "      <td>0</td>\n",
       "      <td>0</td>\n",
       "      <td>8908</td>\n",
       "      <td>CARMA-H2</td>\n",
       "      <td>HORIZON-JTI-CLEANH2-2023-1</td>\n",
       "      <td>020166</td>\n",
       "      <td>INSTO. TECNOLOGIA QUIMICA</td>\n",
       "      <td>CARMA-H2 WILL ENABLE HIGHLY ATTRACTIVE HYDROGE...</td>\n",
       "      <td>CARBON NEGATIVE ELECTROCHEMICAL HYDROGEN PRODU...</td>\n",
       "    </tr>\n",
       "  </tbody>\n",
       "</table>\n",
       "</div>"
      ],
      "text/plain": [
       "          Ref.CSIC     Ref.UE Situación           Programa       Acción clave  \\\n",
       "0     EUROHPC/1238  101196247   VIGENTE  JOINT UNDERTAKING  JOINT UNDERTAKING   \n",
       "1      HE/CBE/0653  101214822   VIGENTE  JOINT UNDERTAKING  JOINT UNDERTAKING   \n",
       "2      HE/CBE/0653  101214822   VIGENTE  JOINT UNDERTAKING  JOINT UNDERTAKING   \n",
       "3  HE/CLEANH2/0431  101137792   VIGENTE        JTI-CLEANH2        JTI-CLEANH2   \n",
       "4  HE/CLEANH2/0571  101137756   VIGENTE        JTI-CLEANH2        JTI-CLEANH2   \n",
       "\n",
       "                                              Título    Comienzo       Final  \\\n",
       "0  Europe-India Partnership for Scientific High-P...  01/02/2025  31/01/2028   \n",
       "1  Bio-based in Soil applications with Optimal bi...  01/09/2025  31/08/2029   \n",
       "2  Bio-based in Soil applications with Optimal bi...  01/09/2025  31/08/2029   \n",
       "3  A novel multi-stage steam gasification and syn...  01/01/2024  31/12/2027   \n",
       "4  Carbon-negative pressurized hydrogen productio...  01/10/2024  30/09/2028   \n",
       "\n",
       "   Duración (meses)  Importe Concedido  Participantes CSIC  \\\n",
       "0                36          302687.50                   1   \n",
       "1                48          273837.50                   1   \n",
       "2                48          273837.50                   1   \n",
       "3                48          220047.50                   1   \n",
       "4                48          224156.25                   0   \n",
       "\n",
       "   Participantes España (no CSIC)  Total Participantes Cód.área  \\\n",
       "0                               2                   10     8903   \n",
       "1                               6                   16     8908   \n",
       "2                               6                   16     8908   \n",
       "3                              10                   16     8908   \n",
       "4                               0                    0     8908   \n",
       "\n",
       "  Acrónimo del proyecto                        Convocatoria  Centro  \\\n",
       "0                GANANA  HORIZON-EUROHPC-JU-2023-INCO-06-01  030102   \n",
       "1                  SOUL                 HORIZON-JU-CBE-2024  020401   \n",
       "2                  SOUL                 HORIZON-JU-CBE-2024  020401   \n",
       "3                HYIELD          HORIZON-JTI-CLEANH2-2023-1  020403   \n",
       "4              CARMA-H2          HORIZON-JTI-CLEANH2-2023-1  020166   \n",
       "\n",
       "                     Nombre Centro IP  \\\n",
       "0               GEOCIENCIAS BARCELONA   \n",
       "1  INSTO. CATALISIS Y PETROLEOQUIMICA   \n",
       "2  INSTO. CATALISIS Y PETROLEOQUIMICA   \n",
       "3                 INSTO. CARBOQUIMICA   \n",
       "4           INSTO. TECNOLOGIA QUIMICA   \n",
       "\n",
       "                                             Resumen  \\\n",
       "0  HIGH-PERFORMANCE COMPUTING (HPC) IS A MAJOR EN...   \n",
       "1  THE USE OF PLASTIC PRODUCTS HAS INCREASED SIGN...   \n",
       "2  THE USE OF PLASTIC PRODUCTS HAS INCREASED SIGN...   \n",
       "3  EUROPE FACES THE JOINT CHALLENGE OF DECARBONIS...   \n",
       "4  CARMA-H2 WILL ENABLE HIGHLY ATTRACTIVE HYDROGE...   \n",
       "\n",
       "                                            Keywords  \n",
       "0                                                NaN  \n",
       "1  IMPROVED CONTROLLED BIODEGRADABILIY; IMPROVED ...  \n",
       "2  IMPROVED CONTROLLED BIODEGRADABILIY; IMPROVED ...  \n",
       "3                                                NaN  \n",
       "4  CARBON NEGATIVE ELECTROCHEMICAL HYDROGEN PRODU...  "
      ]
     },
     "metadata": {},
     "output_type": "display_data"
    },
    {
     "name": "stdout",
     "output_type": "stream",
     "text": [
      "\n",
      "📊 INFORMACIÓN BÁSICA:\n",
      "Total proyectos: 719\n"
     ]
    }
   ],
   "source": [
    "# Vista previa de datos\n",
    "print(\"🔍 PRIMERAS FILAS DEL DATASET:\")\n",
    "print(\"=\" * 70)\n",
    "display(df.head())\n",
    "\n",
    "print(\"\\n📊 INFORMACIÓN BÁSICA:\")\n",
    "print(f\"Total proyectos: {len(df)}\")"
   ]
  },
  {
   "cell_type": "markdown",
   "id": "4fe3a0c1",
   "metadata": {},
   "source": [
    "Ahora las variables numéricas tienen el formato correcto"
   ]
  },
  {
   "cell_type": "markdown",
   "id": "eb9269c6",
   "metadata": {},
   "source": [
    "## 4. Eliminación de Duplicados\n",
    "\n",
    "Al reflejar cada registro un proyecto individual, los campos que actuan como clave (`Ref. CSIC`, `Ref. UE`, `Acrónimo del proyecto`) no deberían repetirse. A continuación se detectan y eliminan posibles duplicados en base a `Ref.CSIC` (anteriormente se eliminan los nulos)."
   ]
  },
  {
   "cell_type": "code",
   "execution_count": 35,
   "id": "04df6767",
   "metadata": {},
   "outputs": [
    {
     "name": "stdout",
     "output_type": "stream",
     "text": [
      "🧹 ELIMINACIÓN DE NULOS Y DUPLICADOS EN Ref.CSIC\n",
      "============================================================\n",
      "✅ Filas con Ref.CSIC nulo eliminadas: 24\n",
      "✅ Duplicados por Ref.CSIC eliminados: 1\n",
      "📊 Dataset final: 694 proyectos únicos\n"
     ]
    }
   ],
   "source": [
    "# Eliminar filas con Ref.CSIC nulo\n",
    "print(\"🧹 ELIMINACIÓN DE NULOS Y DUPLICADOS EN Ref.CSIC\")\n",
    "print(\"=\" * 60)\n",
    "\n",
    "# 1. Eliminar filas donde Ref.CSIC es nulo\n",
    "filas_antes = len(df)\n",
    "df = df.dropna(subset=['Ref.CSIC'])\n",
    "filas_despues_nulos = len(df)\n",
    "nulos_eliminados = filas_antes - filas_despues_nulos\n",
    "\n",
    "print(f\"✅ Filas con Ref.CSIC nulo eliminadas: {nulos_eliminados}\")\n",
    "\n",
    "# 2. Eliminar duplicados por Ref.CSIC (mantener primera ocurrencia)\n",
    "df = df.drop_duplicates(subset=['Ref.CSIC'], keep='first')\n",
    "filas_final = len(df)\n",
    "duplicados_eliminados = filas_despues_nulos - filas_final\n",
    "\n",
    "print(f\"✅ Duplicados por Ref.CSIC eliminados: {duplicados_eliminados}\")\n",
    "print(f\"📊 Dataset final: {filas_final} proyectos únicos\")\n",
    "\n"
   ]
  },
  {
   "cell_type": "markdown",
   "id": "69b030e3",
   "metadata": {},
   "source": [
    "## 5. Normalización de Nombres de Centros\n",
    "\n",
    "**CRÍTICO**: `nombre centro IP` puede tener variaciones (abreviaturas).  \n",
    "Normalizar usando `Centro` (código) como referencia."
   ]
  },
  {
   "cell_type": "code",
   "execution_count": 38,
   "id": "a03dbe17",
   "metadata": {},
   "outputs": [
    {
     "name": "stdout",
     "output_type": "stream",
     "text": [
      "🔍 ANÁLISIS DE NOMBRES DE CENTROS:\n",
      "======================================================================\n",
      "✅ No se encontraron variaciones en nombres de centros\n"
     ]
    }
   ],
   "source": [
    "# Explorar relación Centro - nombre centro IP\n",
    "if 'Centro' in df.columns and 'Nombre Centro IP' in df.columns:\n",
    "    print(\"🔍 ANÁLISIS DE NOMBRES DE CENTROS:\")\n",
    "    print(\"=\" * 70)\n",
    "    \n",
    "    # Agrupar por código de centro y ver variaciones de nombres\n",
    "    centro_nombres = df.groupby('Centro')['Nombre Centro IP'].unique()\n",
    "    \n",
    "    # Detectar centros con múltiples nombres\n",
    "    centros_multiples = {centro: nombres for centro, nombres in centro_nombres.items() \n",
    "                         if len(nombres) > 1}\n",
    "    \n",
    "    if centros_multiples:\n",
    "        print(f\"\\n⚠️ Se encontraron {len(centros_multiples)} centros con múltiples variaciones de nombre:\")\n",
    "        for centro, nombres in list(centros_multiples.items())[:10]:  # Mostrar primeros 10\n",
    "            print(f\"\\n  Centro código: {centro}\")\n",
    "            for nombre in nombres:\n",
    "                print(f\"    - {nombre}\")\n",
    "    else:\n",
    "        print(\"✅ No se encontraron variaciones en nombres de centros\")"
   ]
  },
  {
   "cell_type": "code",
   "execution_count": 39,
   "id": "f8852daf",
   "metadata": {},
   "outputs": [
    {
     "name": "stdout",
     "output_type": "stream",
     "text": [
      "\n",
      "✅ Normalización completada:\n",
      "   Total de registros con nombre normalizado: 0\n",
      "   Centros únicos: 118\n"
     ]
    }
   ],
   "source": [
    "# Normalizar nombres de centros usando el nombre más frecuente por código\n",
    "if 'Centro' in df.columns and 'Nombre Centro IP' in df.columns:\n",
    "    # Crear mapeo: código centro → nombre más frecuente\n",
    "    centro_nombre_map = {}\n",
    "    \n",
    "    for centro in df['Centro'].unique():\n",
    "        if pd.notna(centro):\n",
    "            # Obtener nombre más frecuente para este centro\n",
    "            nombres = df[df['Centro'] == centro]['Nombre Centro IP']\n",
    "            nombre_frecuente = nombres.mode()[0] if len(nombres.mode()) > 0 else nombres.iloc[0]\n",
    "            centro_nombre_map[centro] = nombre_frecuente\n",
    "    \n",
    "    # Aplicar normalización\n",
    "    df['Nombre Centro IP Normalizado'] = df['Centro'].map(centro_nombre_map)\n",
    "    \n",
    "    # Contar cambios\n",
    "    cambios = (df['Nombre Centro IP'] != df['Nombre Centro IP Normalizado']).sum()\n",
    "    print(f\"\\n✅ Normalización completada:\")\n",
    "    print(f\"   Total de registros con nombre normalizado: {cambios}\")\n",
    "    print(f\"   Centros únicos: {df['Nombre Centro IP Normalizado'].nunique()}\")\n",
    "\n",
    "    # Mostrar ejemplo de normalización\n",
    "    if cambios > 0:\n",
    "        print(\"\\n📊 Ejemplos de normalización:\")\n",
    "        ejemplos = df[df['Nombre Centro IP'] != df['Nombre Centro IP Normalizado']][\n",
    "            ['Centro', 'Nombre Centro IP', 'Nombre Centro IP Normalizado']\n",
    "        ].head(5)\n",
    "        display(ejemplos)"
   ]
  },
  {
   "cell_type": "markdown",
   "id": "85a57537",
   "metadata": {},
   "source": [
    "## 6. Conversión de Variables temporales\n",
    "\n",
    "Modificar el tipo de dato de las variables temporales para asegurarse de que tengan el tipo correcto"
   ]
  },
  {
   "cell_type": "code",
   "execution_count": 40,
   "id": "5920a313",
   "metadata": {},
   "outputs": [
    {
     "name": "stdout",
     "output_type": "stream",
     "text": [
      "🗓️ CONVERSIÓN DE VARIABLES TEMPORALES:\n",
      "============================================================\n",
      "   ✅ Comienzo → datetime64[ns]\n",
      "   ✅ Final → datetime64[ns]\n",
      "\n",
      "📊 Verificación de tipos de datos temporales:\n",
      "   Comienzo: datetime64[ns]\n",
      "     Rango: 2021-01-01 00:00:00 a 2026-01-09 00:00:00\n",
      "   Final: datetime64[ns]\n",
      "     Rango: 2022-12-31 00:00:00 a 2034-05-31 00:00:00\n",
      "\n",
      "✅ Conversión de variables temporales completada\n"
     ]
    }
   ],
   "source": [
    "# Convertir variables temporales a formato datetime\n",
    "print(\"🗓️ CONVERSIÓN DE VARIABLES TEMPORALES:\")\n",
    "print(\"=\" * 60)\n",
    "\n",
    "# Variables temporales a convertir\n",
    "variables_temporales = ['Comienzo', 'Final']\n",
    "\n",
    "for var in variables_temporales:\n",
    "    if var in df.columns:\n",
    "        # Convertir a datetime\n",
    "        df[var] = pd.to_datetime(df[var], errors='coerce')\n",
    "        print(f\"   ✅ {var} → datetime64[ns]\")\n",
    "\n",
    "# Verificar conversión\n",
    "print(\"\\n📊 Verificación de tipos de datos temporales:\")\n",
    "for var in variables_temporales:\n",
    "    if var in df.columns:\n",
    "        print(f\"   {var}: {df[var].dtype}\")\n",
    "        # Mostrar rango de fechas\n",
    "        fecha_min = df[var].min()\n",
    "        fecha_max = df[var].max()\n",
    "        print(f\"     Rango: {fecha_min} a {fecha_max}\")\n",
    "\n",
    "print(\"\\n✅ Conversión de variables temporales completada\")"
   ]
  },
  {
   "cell_type": "markdown",
   "id": "0a6140a0",
   "metadata": {},
   "source": [
    "## 7. Limpieza de Strings\n",
    "\n",
    "Eliminar espacios y normalizar formato"
   ]
  },
  {
   "cell_type": "code",
   "execution_count": 41,
   "id": "8edbd49b",
   "metadata": {},
   "outputs": [
    {
     "name": "stdout",
     "output_type": "stream",
     "text": [
      "✅ Limpieza de 14 columnas de texto completada\n"
     ]
    }
   ],
   "source": [
    "# Limpiar columnas de texto\n",
    "text_columns = df.select_dtypes(include=['object']).columns\n",
    "\n",
    "for col in text_columns:\n",
    "    if col in df.columns and df[col].dtype == 'object':\n",
    "        # Eliminar espacios al inicio y final\n",
    "        df[col] = df[col].str.strip()\n",
    "        # Reemplazar múltiples espacios por uno solo\n",
    "        df[col] = df[col].str.replace(r'\\s+', ' ', regex=True)\n",
    "\n",
    "print(f\"✅ Limpieza de {len(text_columns)} columnas de texto completada\")"
   ]
  },
  {
   "cell_type": "markdown",
   "id": "a10f2756",
   "metadata": {},
   "source": [
    "## 8. Transformar Areas Científicas antiguas a nuevas\n",
    "\n",
    "La variable `Cód.Área` hace referencia a las antiguas áreas científicas del CSIC. Se transformarán a las nuevas categorías: Vida, Materia y Sociedad (incluyendo tambien las categorías Central y Desconocido)."
   ]
  },
  {
   "cell_type": "code",
   "execution_count": null,
   "id": "6cfb81c1",
   "metadata": {},
   "outputs": [
    {
     "name": "stdout",
     "output_type": "stream",
     "text": [
      "📊 ANÁLISIS DE VALORES NULOS:\n",
      "======================================================================\n",
      "                       Columna  Nulos  Porcentaje\n",
      "19                    Keywords    462   64.255911\n",
      "18                     Resumen    103   14.325452\n",
      "8             Duración (meses)     29    4.033380\n",
      "7                        Final     28    3.894298\n",
      "6                     Comienzo     28    3.894298\n",
      "4                 Acción clave     27    3.755216\n",
      "3                     Programa     27    3.755216\n",
      "11            España (no CSIC)     26    3.616134\n",
      "12  Total (Csic, Esp. y otros)     26    3.616134\n",
      "10                        CSIC     26    3.616134\n",
      "1                       Ref.UE     25    3.477051\n",
      "0                     Ref.CSIC     24    3.337969\n",
      "2                    Situación     24    3.337969\n",
      "5                       Título     24    3.337969\n",
      "9                    Concedido     24    3.337969\n",
      "13                    Cód.área     24    3.337969\n",
      "15                Convocatoria     24    3.337969\n",
      "14       Acrónimo del proyecto     24    3.337969\n",
      "17            Nombre Centro IP     24    3.337969\n",
      "16                      Centro     24    3.337969\n",
      "\n",
      "⚠️ NOTA: Los valores nulos NO se eliminan en datos administrativos\n",
      "   Son parte natural de la información y deben preservarse\n"
     ]
    }
   ],
   "source": []
  },
  {
   "cell_type": "code",
   "execution_count": 15,
   "id": "36537605",
   "metadata": {},
   "outputs": [
    {
     "data": {
      "image/png": "[encoded data removed]",
      "text/plain": [
       "<Figure size 1400x600 with 2 Axes>"
      ]
     },
     "metadata": {},
     "output_type": "display_data"
    }
   ],
   "source": [
    "# Visualización de nulos\n",
    "plt.figure(figsize=(14, 6))\n",
    "sns.heatmap(df.isnull(), cbar=True, cmap='YlOrRd', yticklabels=False)\n",
    "plt.title('Mapa de Valores Nulos en el Dataset', fontsize=14, pad=15)\n",
    "plt.xlabel('Variables')\n",
    "plt.tight_layout()\n",
    "plt.show()"
   ]
  },
  {
   "cell_type": "markdown",
   "id": "02a8c1f5",
   "metadata": {},
   "source": [
    "## 8. Creación de Variables Derivadas\n",
    "\n",
    "Extraer información adicional útil para análisis"
   ]
  },
  {
   "cell_type": "code",
   "execution_count": 16,
   "id": "1e963d05",
   "metadata": {},
   "outputs": [
    {
     "name": "stdout",
     "output_type": "stream",
     "text": [
      "✅ Variables temporales creadas (Año Inicio, Mes Inicio)\n",
      "✅ Año Fin creado\n",
      "✅ Categoría Presupuesto creada\n",
      "\n",
      "✅ Todas las variables derivadas creadas exitosamente\n"
     ]
    }
   ],
   "source": [
    "# Extraer información temporal\n",
    "if 'Comienzo' in df.columns and pd.api.types.is_datetime64_any_dtype(df['Comienzo']):\n",
    "    df['Año Inicio'] = df['Comienzo'].dt.year\n",
    "    df['Mes Inicio'] = df['Comienzo'].dt.month\n",
    "    df['Año Inicio (string)'] = df['Año Inicio'].astype(str)\n",
    "    print(\"✅ Variables temporales creadas (Año Inicio, Mes Inicio)\")\n",
    "\n",
    "if 'Final' in df.columns and pd.api.types.is_datetime64_any_dtype(df['Final']):\n",
    "    df['Año Fin'] = df['Final'].dt.year\n",
    "    print(\"✅ Año Fin creado\")\n",
    "\n",
    "# Calcular presupuesto por mes\n",
    "if 'Concedido' in df.columns and 'Duración(meses)' in df.columns:\n",
    "    df['Presupuesto Mensual'] = df.apply(\n",
    "        lambda row: row['Concedido'] / row['Duración(meses)'] \n",
    "        if pd.notna(row['Duración(meses)']) and row['Duración(meses)'] > 0 \n",
    "        else np.nan, \n",
    "        axis=1\n",
    "    )\n",
    "    print(\"✅ Presupuesto Mensual calculado\")\n",
    "\n",
    "# Categorizar duración de proyectos\n",
    "if 'Duración(meses)' in df.columns:\n",
    "    def categorizar_duracion(meses):\n",
    "        if pd.isna(meses):\n",
    "            return 'Sin especificar'\n",
    "        elif meses <= 12:\n",
    "            return 'Corto (≤12 meses)'\n",
    "        elif meses <= 36:\n",
    "            return 'Medio (13-36 meses)'\n",
    "        else:\n",
    "            return 'Largo (>36 meses)'\n",
    "    \n",
    "    df['Categoría Duración'] = df['Duración(meses)'].apply(categorizar_duracion)\n",
    "    print(\"✅ Categoría Duración creada\")\n",
    "\n",
    "# Categorizar presupuesto\n",
    "if 'Concedido' in df.columns:\n",
    "    def categorizar_presupuesto(cantidad):\n",
    "        if pd.isna(cantidad):\n",
    "            return 'Sin especificar'\n",
    "        elif cantidad < 100000:\n",
    "            return 'Pequeño (<100K)'\n",
    "        elif cantidad < 500000:\n",
    "            return 'Medio (100K-500K)'\n",
    "        elif cantidad < 1000000:\n",
    "            return 'Grande (500K-1M)'\n",
    "        else:\n",
    "            return 'Muy Grande (>1M)'\n",
    "    \n",
    "    df['Categoría Presupuesto'] = df['Concedido'].apply(categorizar_presupuesto)\n",
    "    print(\"✅ Categoría Presupuesto creada\")\n",
    "\n",
    "print(\"\\n✅ Todas las variables derivadas creadas exitosamente\")"
   ]
  },
  {
   "cell_type": "markdown",
   "id": "5ef6bd14",
   "metadata": {},
   "source": [
    "## 9. Resumen Final del Preprocesado"
   ]
  },
  {
   "cell_type": "code",
   "execution_count": 17,
   "id": "f4083aab",
   "metadata": {},
   "outputs": [
    {
     "name": "stdout",
     "output_type": "stream",
     "text": [
      "================================================================================\n",
      "📊 RESUMEN FINAL DEL DATASET PREPROCESADO\n",
      "================================================================================\n",
      "\n",
      "📁 DIMENSIONES:\n",
      "   Total de proyectos: 719\n",
      "   Total de variables: 25\n",
      "\n",
      "📅 PERÍODO TEMPORAL:\n",
      "   Primer proyecto: 2021-01-01 00:00:00\n",
      "   Último proyecto: 2034-05-31 00:00:00\n",
      "\n",
      "💰 PRESUPUESTO:\n",
      "   Total concedido: 336,698,452.57 €\n",
      "   Promedio por proyecto: 484,458.21 €\n",
      "\n",
      "🏛️ PARTICIPACIÓN:\n",
      "   Centros CSIC participantes: 305.0\n",
      "   Centros españoles (no CSIC): 453.0\n",
      "\n",
      "📊 PROGRAMAS:\n",
      "\n",
      "⚠️ VALORES NULOS:\n",
      "   Total: 1,107 valores nulos\n",
      "   Nota: Los nulos NO han sido eliminados (datos administrativos)\n",
      "\n",
      "✅ TRANSFORMACIONES APLICADAS:\n",
      "   ✓ Duplicados por Ref.CSIC eliminados\n",
      "   ✓ Nombres de centros normalizados\n",
      "   ✓ Tipos de datos convertidos correctamente\n",
      "   ✓ Variables derivadas creadas\n",
      "\n",
      "================================================================================\n"
     ]
    }
   ],
   "source": [
    "# Resumen completo del dataset preprocesado\n",
    "print(\"=\" * 80)\n",
    "print(\"📊 RESUMEN FINAL DEL DATASET PREPROCESADO\")\n",
    "print(\"=\" * 80)\n",
    "\n",
    "print(f\"\\n📁 DIMENSIONES:\")\n",
    "print(f\"   Total de proyectos: {df.shape[0]:,}\")\n",
    "print(f\"   Total de variables: {df.shape[1]}\")\n",
    "\n",
    "print(f\"\\n📅 PERÍODO TEMPORAL:\")\n",
    "if 'Comienzo' in df.columns:\n",
    "    print(f\"   Primer proyecto: {df['Comienzo'].min()}\")\n",
    "    print(f\"   Último proyecto: {df['Final'].max() if 'Final' in df.columns else 'N/A'}\")\n",
    "\n",
    "print(f\"\\n💰 PRESUPUESTO:\")\n",
    "if 'Concedido' in df.columns:\n",
    "    print(f\"   Total concedido: {df['Concedido'].sum():,.2f} €\")\n",
    "    print(f\"   Promedio por proyecto: {df['Concedido'].mean():,.2f} €\")\n",
    "\n",
    "print(f\"\\n🏛️ PARTICIPACIÓN:\")\n",
    "if 'CSIC' in df.columns:\n",
    "    print(f\"   Centros CSIC participantes: {df['CSIC'].sum()}\")\n",
    "if 'España (no CSIC)' in df.columns:\n",
    "    print(f\"   Centros españoles (no CSIC): {df['España (no CSIC)'].sum()}\")\n",
    "\n",
    "print(f\"\\n📊 PROGRAMAS:\")\n",
    "if 'programa' in df.columns:\n",
    "    print(f\"   Programas únicos: {df['programa'].nunique()}\")\n",
    "    print(f\"   Top 3 programas:\")\n",
    "    for i, (prog, count) in enumerate(df['programa'].value_counts().head(3).items(), 1):\n",
    "        print(f\"      {i}. {prog}: {count} proyectos\")\n",
    "\n",
    "print(f\"\\n⚠️ VALORES NULOS:\")\n",
    "print(f\"   Total: {df.isnull().sum().sum():,} valores nulos\")\n",
    "print(f\"   Nota: Los nulos NO han sido eliminados (datos administrativos)\")\n",
    "\n",
    "print(f\"\\n✅ TRANSFORMACIONES APLICADAS:\")\n",
    "print(f\"   ✓ Duplicados por Ref.CSIC eliminados\")\n",
    "print(f\"   ✓ Nombres de centros normalizados\")\n",
    "print(f\"   ✓ Tipos de datos convertidos correctamente\")\n",
    "print(f\"   ✓ Variables derivadas creadas\")\n",
    "\n",
    "print(\"\\n\" + \"=\" * 80)"
   ]
  },
  {
   "cell_type": "markdown",
   "id": "187ff201",
   "metadata": {},
   "source": [
    "## 10. Exportación de Datos Limpios"
   ]
  },
  {
   "cell_type": "code",
   "execution_count": 18,
   "id": "2ee2f65a",
   "metadata": {},
   "outputs": [
    {
     "name": "stdout",
     "output_type": "stream",
     "text": [
      "✅ Datos exportados exitosamente:\n",
      "   📁 ../data/9PM_bootcamp_clean.csv\n",
      "   📁 ../data/9PM_bootcamp_clean.xlsx\n",
      "\n",
      "📊 Total de proyectos exportados: 719\n"
     ]
    }
   ],
   "source": [
    "# Guardar dataset preprocesado\n",
    "df.to_csv('../data/9PM_bootcamp_clean.csv', index=False, encoding='utf-8')\n",
    "df.to_excel('../data/9PM_bootcamp_clean.xlsx', index=False)\n",
    "\n",
    "print(\"✅ Datos exportados exitosamente:\")\n",
    "print(\"   📁 ../data/9PM_bootcamp_clean.csv\")\n",
    "print(\"   📁 ../data/9PM_bootcamp_clean.xlsx\")\n",
    "print(f\"\\n📊 Total de proyectos exportados: {len(df):,}\")"
   ]
  }
 ],
 "metadata": {
  "kernelspec": {
   "display_name": "Python (venv-horizonte)",
   "language": "python",
   "name": "venv-horizonte"
  },
  "language_info": {
   "codemirror_mode": {
    "name": "ipython",
    "version": 3
   },
   "file_extension": ".py",
   "mimetype": "text/x-python",
   "name": "python",
   "nbconvert_exporter": "python",
   "pygments_lexer": "ipython3",
   "version": "3.12.1"
  }
 },
 "nbformat": 4,
 "nbformat_minor": 5
}
