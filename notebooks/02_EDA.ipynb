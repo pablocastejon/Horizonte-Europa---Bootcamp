{
 "cells": [
  {
   "cell_type": "markdown",
   "id": "f3fe24a4",
   "metadata": {},
   "source": [
    "# 📈 Análisis Exploratorio de Datos (EDA) - 9PM Bootcamp\n",
    "\n",
    "Este notebook realiza un análisis exploratorio exhaustivo de los datos administrativos del bootcamp.\n",
    "\n",
    "## Contenido:\n",
    "1. Carga de datos preprocesados\n",
    "2. Estadísticas descriptivas\n",
    "3. Análisis univariado (variables individuales)\n",
    "4. Análisis bivariado (relaciones entre variables)\n",
    "5. Análisis de variables categóricas\n",
    "6. Patrones y tendencias\n",
    "7. Insights y conclusiones"
   ]
  },
  {
   "cell_type": "code",
   "execution_count": null,
   "id": "a404a613",
   "metadata": {},
   "outputs": [],
   "source": [
    "# Importar librerías\n",
    "import pandas as pd\n",
    "import numpy as np\n",
    "import matplotlib.pyplot as plt\n",
    "import seaborn as sns\n",
    "import plotly.express as px\n",
    "import plotly.graph_objects as go\n",
    "from plotly.subplots import make_subplots\n",
    "import warnings\n",
    "warnings.filterwarnings('ignore')\n",
    "\n",
    "# Configuración de visualización\n",
    "plt.style.use('seaborn-v0_8-darkgrid')\n",
    "sns.set_palette(\"husl\")\n",
    "%matplotlib inline\n",
    "\n",
    "print(\"✅ Librerías importadas correctamente\")"
   ]
  },
  {
   "cell_type": "markdown",
   "id": "a741f229",
   "metadata": {},
   "source": [
    "## 1. Carga de Datos"
   ]
  },
  {
   "cell_type": "code",
   "execution_count": null,
   "id": "fac09f09",
   "metadata": {},
   "outputs": [],
   "source": [
    "# Cargar datos (ajustar ruta según disponibilidad)\n",
    "# Opción 1: Datos limpios del notebook de preprocesado\n",
    "# df = pd.read_csv('../data/9PM_bootcamp_clean.csv')\n",
    "\n",
    "# Opción 2: Datos originales\n",
    "df = pd.read_excel('../data/9PM_bootcamp.xlsx')\n",
    "\n",
    "print(f\"📁 Dataset cargado: {df.shape[0]} filas × {df.shape[1]} columnas\")\n",
    "df.head()"
   ]
  },
  {
   "cell_type": "markdown",
   "id": "e2ae5edf",
   "metadata": {},
   "source": [
    "## 2. Estadísticas Descriptivas Generales"
   ]
  },
  {
   "cell_type": "code",
   "execution_count": null,
   "id": "f815bbaa",
   "metadata": {},
   "outputs": [],
   "source": [
    "# Resumen estadístico de variables numéricas\n",
    "print(\"📊 Estadísticas descriptivas - Variables numéricas:\")\n",
    "print(\"=\" * 70)\n",
    "df.describe()"
   ]
  },
  {
   "cell_type": "code",
   "execution_count": null,
   "id": "1eaa8b49",
   "metadata": {},
   "outputs": [],
   "source": [
    "# Resumen de variables categóricas\n",
    "print(\"📝 Variables categóricas:\")\n",
    "print(\"=\" * 70)\n",
    "categorical_cols = df.select_dtypes(include=['object']).columns\n",
    "\n",
    "for col in categorical_cols:\n",
    "    unique_count = df[col].nunique()\n",
    "    print(f\"\\n{col}: {unique_count} valores únicos\")\n",
    "    if unique_count <= 10:\n",
    "        print(df[col].value_counts())\n",
    "    else:\n",
    "        print(f\"Top 5 valores más frecuentes:\")\n",
    "        print(df[col].value_counts().head())"
   ]
  },
  {
   "cell_type": "markdown",
   "id": "cdc6005e",
   "metadata": {},
   "source": [
    "## 3. Análisis Univariado\n",
    "\n",
    "### 3.1 Variables Numéricas"
   ]
  },
  {
   "cell_type": "code",
   "execution_count": null,
   "id": "5ca8edc1",
   "metadata": {},
   "outputs": [],
   "source": [
    "# Identificar variables numéricas\n",
    "numeric_cols = df.select_dtypes(include=[np.number]).columns.tolist()\n",
    "print(f\"📊 Variables numéricas encontradas: {len(numeric_cols)}\")\n",
    "print(numeric_cols)"
   ]
  },
  {
   "cell_type": "code",
   "execution_count": null,
   "id": "7d93425e",
   "metadata": {},
   "outputs": [],
   "source": [
    "# Distribución de variables numéricas\n",
    "if len(numeric_cols) > 0:\n",
    "    fig, axes = plt.subplots(len(numeric_cols), 2, figsize=(15, 5*len(numeric_cols)))\n",
    "    if len(numeric_cols) == 1:\n",
    "        axes = axes.reshape(1, -1)\n",
    "    \n",
    "    for idx, col in enumerate(numeric_cols):\n",
    "        # Histograma\n",
    "        axes[idx, 0].hist(df[col].dropna(), bins=30, edgecolor='black', alpha=0.7)\n",
    "        axes[idx, 0].set_title(f'Distribución: {col}')\n",
    "        axes[idx, 0].set_xlabel(col)\n",
    "        axes[idx, 0].set_ylabel('Frecuencia')\n",
    "        \n",
    "        # Boxplot\n",
    "        axes[idx, 1].boxplot(df[col].dropna(), vert=False)\n",
    "        axes[idx, 1].set_title(f'Boxplot: {col}')\n",
    "        axes[idx, 1].set_xlabel(col)\n",
    "    \n",
    "    plt.tight_layout()\n",
    "    plt.show()\n",
    "else:\n",
    "    print(\"⚠️ No se encontraron variables numéricas para visualizar\")"
   ]
  },
  {
   "cell_type": "markdown",
   "id": "8c86e465",
   "metadata": {},
   "source": [
    "### 3.2 Variables Categóricas"
   ]
  },
  {
   "cell_type": "code",
   "execution_count": null,
   "id": "df3bfd42",
   "metadata": {},
   "outputs": [],
   "source": [
    "# Visualizar distribución de variables categóricas\n",
    "categorical_cols = df.select_dtypes(include=['object']).columns\n",
    "\n",
    "for col in categorical_cols:\n",
    "    unique_count = df[col].nunique()\n",
    "    \n",
    "    # Solo visualizar si tiene menos de 20 categorías únicas\n",
    "    if unique_count <= 20:\n",
    "        plt.figure(figsize=(12, 6))\n",
    "        \n",
    "        value_counts = df[col].value_counts()\n",
    "        \n",
    "        # Gráfico de barras\n",
    "        plt.subplot(1, 2, 1)\n",
    "        value_counts.plot(kind='bar', color='skyblue', edgecolor='black')\n",
    "        plt.title(f'Distribución: {col}')\n",
    "        plt.xlabel(col)\n",
    "        plt.ylabel('Frecuencia')\n",
    "        plt.xticks(rotation=45, ha='right')\n",
    "        \n",
    "        # Gráfico de pastel\n",
    "        plt.subplot(1, 2, 2)\n",
    "        if len(value_counts) <= 10:\n",
    "            plt.pie(value_counts, labels=value_counts.index, autopct='%1.1f%%', startangle=90)\n",
    "            plt.title(f'Proporción: {col}')\n",
    "        else:\n",
    "            # Si hay muchas categorías, mostrar solo las top 10\n",
    "            top_values = value_counts.head(10)\n",
    "            plt.pie(top_values, labels=top_values.index, autopct='%1.1f%%', startangle=90)\n",
    "            plt.title(f'Top 10 - Proporción: {col}')\n",
    "        \n",
    "        plt.tight_layout()\n",
    "        plt.show()\n",
    "        print(f\"\\n{'='*60}\\n\")"
   ]
  },
  {
   "cell_type": "markdown",
   "id": "04d76bfa",
   "metadata": {},
   "source": [
    "## 4. Análisis Bivariado\n",
    "\n",
    "### 4.1 Correlación entre variables numéricas"
   ]
  },
  {
   "cell_type": "code",
   "execution_count": null,
   "id": "8996599c",
   "metadata": {},
   "outputs": [],
   "source": [
    "# Matriz de correlación\n",
    "if len(numeric_cols) > 1:\n",
    "    plt.figure(figsize=(10, 8))\n",
    "    correlation_matrix = df[numeric_cols].corr()\n",
    "    \n",
    "    sns.heatmap(correlation_matrix, \n",
    "                annot=True, \n",
    "                cmap='coolwarm', \n",
    "                center=0, \n",
    "                square=True,\n",
    "                linewidths=1,\n",
    "                cbar_kws={\"shrink\": 0.8})\n",
    "    plt.title('Matriz de Correlación - Variables Numéricas', fontsize=16, pad=20)\n",
    "    plt.tight_layout()\n",
    "    plt.show()\n",
    "else:\n",
    "    print(\"⚠️ No hay suficientes variables numéricas para análisis de correlación\")"
   ]
  },
  {
   "cell_type": "markdown",
   "id": "e1c84e65",
   "metadata": {},
   "source": [
    "### 4.2 Relaciones entre variables categóricas"
   ]
  },
  {
   "cell_type": "code",
   "execution_count": null,
   "id": "c713c453",
   "metadata": {},
   "outputs": [],
   "source": [
    "# Ejemplo: Análisis cruzado entre dos variables categóricas\n",
    "# Ajustar según las columnas disponibles\n",
    "\n",
    "# if len(categorical_cols) >= 2:\n",
    "#     col1 = categorical_cols[0]\n",
    "#     col2 = categorical_cols[1]\n",
    "#     \n",
    "#     cross_tab = pd.crosstab(df[col1], df[col2], margins=True)\n",
    "#     print(f\"\\nTabla cruzada: {col1} vs {col2}\")\n",
    "#     print(cross_tab)\n",
    "#     \n",
    "#     # Visualización con heatmap\n",
    "#     plt.figure(figsize=(12, 8))\n",
    "#     sns.heatmap(pd.crosstab(df[col1], df[col2]), annot=True, fmt='d', cmap='YlOrRd')\n",
    "#     plt.title(f'Relación: {col1} vs {col2}')\n",
    "#     plt.tight_layout()\n",
    "#     plt.show()\n",
    "\n",
    "print(\"💡 Descomentar y ajustar según columnas disponibles\")"
   ]
  },
  {
   "cell_type": "markdown",
   "id": "85cb92f5",
   "metadata": {},
   "source": [
    "## 5. Visualizaciones Interactivas con Plotly"
   ]
  },
  {
   "cell_type": "code",
   "execution_count": null,
   "id": "96507054",
   "metadata": {},
   "outputs": [],
   "source": [
    "# Ejemplo de gráfico interactivo con Plotly\n",
    "# Ajustar según columnas disponibles\n",
    "\n",
    "if len(categorical_cols) > 0:\n",
    "    col = categorical_cols[0]\n",
    "    value_counts = df[col].value_counts().reset_index()\n",
    "    value_counts.columns = [col, 'count']\n",
    "    \n",
    "    fig = px.bar(value_counts, \n",
    "                 x=col, \n",
    "                 y='count',\n",
    "                 title=f'Distribución interactiva: {col}',\n",
    "                 labels={'count': 'Cantidad'},\n",
    "                 color='count',\n",
    "                 color_continuous_scale='viridis')\n",
    "    \n",
    "    fig.update_layout(showlegend=False)\n",
    "    fig.show()"
   ]
  },
  {
   "cell_type": "markdown",
   "id": "28e32017",
   "metadata": {},
   "source": [
    "## 6. Detección de Outliers"
   ]
  },
  {
   "cell_type": "code",
   "execution_count": null,
   "id": "241baa87",
   "metadata": {},
   "outputs": [],
   "source": [
    "# Análisis de outliers en variables numéricas\n",
    "if len(numeric_cols) > 0:\n",
    "    for col in numeric_cols:\n",
    "        Q1 = df[col].quantile(0.25)\n",
    "        Q3 = df[col].quantile(0.75)\n",
    "        IQR = Q3 - Q1\n",
    "        \n",
    "        lower_bound = Q1 - 1.5 * IQR\n",
    "        upper_bound = Q3 + 1.5 * IQR\n",
    "        \n",
    "        outliers = df[(df[col] < lower_bound) | (df[col] > upper_bound)][col]\n",
    "        \n",
    "        print(f\"\\n{col}:\")\n",
    "        print(f\"  Límite inferior: {lower_bound:.2f}\")\n",
    "        print(f\"  Límite superior: {upper_bound:.2f}\")\n",
    "        print(f\"  Outliers detectados: {len(outliers)} ({len(outliers)/len(df)*100:.2f}%)\")"
   ]
  },
  {
   "cell_type": "markdown",
   "id": "f324aa6a",
   "metadata": {},
   "source": [
    "## 7. Resumen de Insights\n",
    "\n",
    "### Principales hallazgos:\n",
    "\n",
    "- **[Completar después del análisis]**\n",
    "- \n",
    "- \n",
    "\n",
    "### Recomendaciones para el dashboard:\n",
    "\n",
    "- **[Completar según insights encontrados]**\n",
    "- \n",
    "- "
   ]
  },
  {
   "cell_type": "code",
   "execution_count": null,
   "id": "fb2f4e13",
   "metadata": {},
   "outputs": [],
   "source": [
    "# Exportar resumen estadístico\n",
    "summary = df.describe(include='all').T\n",
    "# summary.to_csv('../data/summary_statistics.csv')\n",
    "print(\"\\n📊 Análisis exploratorio completado\")\n",
    "print(\"💡 Usar los insights para diseñar el dashboard de Streamlit\")"
   ]
  }
 ],
 "metadata": {
  "language_info": {
   "name": "python"
  }
 },
 "nbformat": 4,
 "nbformat_minor": 5
}
